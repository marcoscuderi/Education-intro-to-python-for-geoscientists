{
 "cells": [
  {
   "cell_type": "markdown",
   "metadata": {},
   "source": [
    "# Essential data containers  \n",
    "Containers are data types that you can use to store any variables. They work like a bookshelf where you put books.  \n",
    "Each container has it's own type and unique properties.  \n",
    "The major containers are:  \n",
    "- list   \n",
    "- dictionaries (dict)  \n",
    "- Numpy Arrays (that we will see in a future lecture)"
   ]
  },
  {
   "cell_type": "markdown",
   "metadata": {},
   "source": [
    "## Lists  \n",
    "Lists in Python are one-dimensional, ordered containers whose elements may be any Python objects. Lists are mutable and have methods for adding and removing elements to and from themselves.  \n",
    "You can think of them as a box where you can put whatever you want to collect.  \n",
    "**In Python, unlike in other languages, the elements of a list do not have to match other\n",
    "in type.**"
   ]
  },
  {
   "cell_type": "code",
   "execution_count": null,
   "metadata": {
    "jupyter": {
     "outputs_hidden": true
    }
   },
   "outputs": [],
   "source": [
    "a = [6, 28]\n",
    "print (type(a))\n",
    "print (a)"
   ]
  },
  {
   "cell_type": "code",
   "execution_count": null,
   "metadata": {},
   "outputs": [],
   "source": [
    "b = [1e3, -2, \"I am in a list.\"]\n",
    "print(b)"
   ]
  },
  {
   "cell_type": "code",
   "execution_count": null,
   "metadata": {
    "jupyter": {
     "outputs_hidden": true
    }
   },
   "outputs": [],
   "source": [
    "c = [[1.0, 0.0], [0.0, 1.0]]\n",
    "print (c[0])"
   ]
  },
  {
   "cell_type": "markdown",
   "metadata": {},
   "source": [
    "You can concatenate two lists together using the addition operator (+) to form a longer list:"
   ]
  },
  {
   "cell_type": "code",
   "execution_count": null,
   "metadata": {
    "jupyter": {
     "outputs_hidden": true
    }
   },
   "outputs": [],
   "source": [
    "[1, 1] + [2, 3, 5] + [8]"
   ]
  },
  {
   "cell_type": "markdown",
   "metadata": {},
   "source": [
    "You can also append to lists in-place using the append() method, which adds a single\n",
    "element to the end:"
   ]
  },
  {
   "cell_type": "code",
   "execution_count": 6,
   "metadata": {},
   "outputs": [
    {
     "data": {
      "text/plain": [
       "[1, 1, 2, 3, 5, 8]"
      ]
     },
     "execution_count": 6,
     "metadata": {},
     "output_type": "execute_result"
    }
   ],
   "source": [
    "fib = [1, 1, 2, 3, 5, 8]\n",
    "fib"
   ]
  },
  {
   "cell_type": "code",
   "execution_count": 7,
   "metadata": {},
   "outputs": [
    {
     "data": {
      "text/plain": [
       "[1, 1, 2, 3, 5, 8, 'pippo']"
      ]
     },
     "execution_count": 7,
     "metadata": {},
     "output_type": "execute_result"
    }
   ],
   "source": [
    "fib.append('pippo')\n",
    "fib"
   ]
  },
  {
   "cell_type": "markdown",
   "metadata": {},
   "source": [
    "You can also add whole sequences of stuff by using the method .extend() or the += operator"
   ]
  },
  {
   "cell_type": "code",
   "execution_count": 8,
   "metadata": {},
   "outputs": [
    {
     "data": {
      "text/plain": [
       "[1, 1, 2, 3, 5, 8, 'pippo', 21, 34, 55]"
      ]
     },
     "execution_count": 8,
     "metadata": {},
     "output_type": "execute_result"
    }
   ],
   "source": [
    "fib.extend([21, 34, 55])\n",
    "fib"
   ]
  },
  {
   "cell_type": "code",
   "execution_count": 9,
   "metadata": {
    "jupyter": {
     "outputs_hidden": true
    }
   },
   "outputs": [
    {
     "data": {
      "text/plain": [
       "[1, 1, 2, 3, 5, 8, 'pippo', 21, 34, 55, 89, 144]"
      ]
     },
     "execution_count": 9,
     "metadata": {},
     "output_type": "execute_result"
    }
   ],
   "source": [
    "fib += [89, 144]\n",
    "fib"
   ]
  },
  {
   "cell_type": "code",
   "execution_count": 10,
   "metadata": {},
   "outputs": [
    {
     "data": {
      "text/plain": [
       "[1, 'foo', 1, 2, 3, 5, 8, 'pippo', 21, 34, 55, 89, 144]"
      ]
     },
     "execution_count": 10,
     "metadata": {},
     "output_type": "execute_result"
    }
   ],
   "source": [
    "# insert element\n",
    "fib.insert(1,'foo')\n",
    "fib"
   ]
  },
  {
   "cell_type": "code",
   "execution_count": 12,
   "metadata": {},
   "outputs": [
    {
     "data": {
      "text/plain": [
       "[1, 2, 3, 5, 8, 'pippo', 21, 34, 55, 89, 144]"
      ]
     },
     "execution_count": 12,
     "metadata": {},
     "output_type": "execute_result"
    }
   ],
   "source": [
    "# eliminate elements \n",
    "fib.pop(1)\n",
    "fib"
   ]
  },
  {
   "cell_type": "code",
   "execution_count": null,
   "metadata": {},
   "outputs": [],
   "source": [
    "# check if an element is in the list \n",
    "'foo' in fib"
   ]
  },
  {
   "cell_type": "markdown",
   "metadata": {},
   "source": [
    "## List sorting\n",
    "sort has a few options that will occasionally come in handy. One is the ability to pass\n",
    "a secondary sort key that is a function that produces a value to use to sort the\n",
    "objects."
   ]
  },
  {
   "cell_type": "code",
   "execution_count": null,
   "metadata": {},
   "outputs": [],
   "source": [
    "pippo = [4,3,1,2,6,8,9]\n",
    "pippo.sort()\n",
    "pippo"
   ]
  },
  {
   "cell_type": "code",
   "execution_count": null,
   "metadata": {},
   "outputs": [],
   "source": [
    "pluto = ['foo','thisislong','v']\n",
    "pluto.sort(key=len)\n",
    "pluto"
   ]
  },
  {
   "cell_type": "markdown",
   "metadata": {},
   "source": [
    "## List indexing  \n",
    "List indexing is exactly the same as string indexing, but instead of returning strings it\n",
    "returns new lists."
   ]
  },
  {
   "cell_type": "code",
   "execution_count": 13,
   "metadata": {},
   "outputs": [
    {
     "data": {
      "text/plain": [
       "[1, 7, 9, 39]"
      ]
     },
     "execution_count": 13,
     "metadata": {},
     "output_type": "execute_result"
    }
   ],
   "source": [
    "# get values from the beginning to the end at steps of 2\n",
    "fib = [1,4,7,3,9,10,39,50]\n",
    "a = fib[::2]\n",
    "a"
   ]
  },
  {
   "cell_type": "markdown",
   "metadata": {},
   "source": [
    "indexes can also be used to set or delete elements in a list. This is because lists are mutable, whereas strings are not."
   ]
  },
  {
   "cell_type": "code",
   "execution_count": 14,
   "metadata": {},
   "outputs": [
    {
     "data": {
      "text/plain": [
       "[1, 4, 7, 'whoops', 9, 10, 39, 50]"
      ]
     },
     "execution_count": 14,
     "metadata": {},
     "output_type": "execute_result"
    }
   ],
   "source": [
    "# add something at a specific position\n",
    "fib[3] = \"whoops\"\n",
    "fib"
   ]
  },
  {
   "cell_type": "code",
   "execution_count": null,
   "metadata": {
    "jupyter": {
     "outputs_hidden": true
    }
   },
   "outputs": [],
   "source": [
    "junk = 'pippo'\n",
    "junk[2]='pluto'"
   ]
  },
  {
   "cell_type": "code",
   "execution_count": null,
   "metadata": {},
   "outputs": [],
   "source": [
    "# delete part of lists \n",
    "del fib[:5]\n",
    "fib"
   ]
  },
  {
   "cell_type": "markdown",
   "metadata": {},
   "source": [
    "Multiple list values may be set simultaneously as long as the new values are stored in a sequence of the same length as their destination."
   ]
  },
  {
   "cell_type": "code",
   "execution_count": null,
   "metadata": {},
   "outputs": [],
   "source": [
    "len(fib)\n",
    "fib"
   ]
  },
  {
   "cell_type": "code",
   "execution_count": null,
   "metadata": {},
   "outputs": [],
   "source": [
    "fib[1::2] = [-1,-1,-1,-1] \n",
    "fib "
   ]
  },
  {
   "cell_type": "code",
   "execution_count": 15,
   "metadata": {},
   "outputs": [
    {
     "data": {
      "text/plain": [
       "[1, 2, 3, 1, 2, 3, 1, 2, 3, 1, 2, 3, 1, 2, 3, 1, 2, 3]"
      ]
     },
     "execution_count": 15,
     "metadata": {},
     "output_type": "execute_result"
    }
   ],
   "source": [
    "a = [1,2,3]\n",
    "a*6"
   ]
  },
  {
   "cell_type": "code",
   "execution_count": 16,
   "metadata": {},
   "outputs": [
    {
     "data": {
      "text/plain": [
       "array([ 6, 12, 18])"
      ]
     },
     "execution_count": 16,
     "metadata": {},
     "output_type": "execute_result"
    }
   ],
   "source": [
    "# multiplication by and integer\n",
    "import numpy as np\n",
    "np.array([1,2,3])*6"
   ]
  },
  {
   "cell_type": "markdown",
   "metadata": {},
   "source": [
    "Names cannot refer to other names, but only to the underlying data.  "
   ]
  },
  {
   "cell_type": "markdown",
   "metadata": {},
   "source": [
    "In the code here, Python starts by first creating the number 42 in memory. It then sets\n",
    "the name x to refer to the point in memory where 42 lives. On the next line, Python\n",
    "then sees that y should point to the same place that x is pointing to. Now, 42 has two\n",
    "names: x and y. Then x is deleted, but Python sees that 42 still has at least one name\n",
    "(y), so it keeps both y and 42 around for later use."
   ]
  },
  {
   "cell_type": "code",
   "execution_count": null,
   "metadata": {},
   "outputs": [],
   "source": [
    "x = [3, 2, 1, \"blast off!\"]\n",
    "y = x.copy()\n",
    "y[1] = \"TWO\"\n",
    "print(x)\n",
    "print(y)"
   ]
  },
  {
   "cell_type": "markdown",
   "metadata": {},
   "source": [
    "The reason this technique is used is that memory volume is handled much more efficiently, though this often comes at the cost of increased CPU usage."
   ]
  },
  {
   "cell_type": "markdown",
   "metadata": {},
   "source": [
    "#### Let's do some practice ####  \n",
    "Create a list of numbers from 1 to 10 in random order.  \n",
    "Order the list from the smallest to the bigger value.  \n",
    "Replace every odd number with the string 'pippo'."
   ]
  },
  {
   "cell_type": "code",
   "execution_count": null,
   "metadata": {},
   "outputs": [],
   "source": [
    "value = [1,4,8,2,3,5,7,9,10,6]\n",
    "value.sort()\n",
    "value\n",
    "value[::2] = ['pippo','pippo','pippo','pippo','pippo']\n",
    "value"
   ]
  },
  {
   "cell_type": "markdown",
   "metadata": {},
   "source": [
    "# Dictionaries  \n",
    "Dictionaries are hands down the **most important data structure in Python**. Everything\n",
    "in Python is a dictionary. A dictionary, or **dict**, is a mutable, unordered collection of\n",
    "unique key/value pairs—this is Python’s native implementation of a hash table.  \n",
    "- In a dictionary, keys are associated with values. This means that you can look up a\n",
    "value knowing only its key(s).  \n",
    "- Both the keys and the values are Python objects. So, as with lists, you can store anything\n",
    "you need to as values.\n",
    "- They are defined by\n",
    "outer curly brackets ({}) surrounding key/value pairs that are separated by commas\n",
    "(,). Each key/value pair is known as an item, and the key is separated from the value\n",
    "by a colon (:)."
   ]
  },
  {
   "cell_type": "code",
   "execution_count": null,
   "metadata": {},
   "outputs": [],
   "source": [
    "# A dictionary on one line that stores info about Einstein\n",
    "al = {\"first\": \"Albert\", \"last\": \"Einstein\", \"birthday\": [1879, 3, 14]}\n",
    "al['birthday']"
   ]
  },
  {
   "cell_type": "code",
   "execution_count": null,
   "metadata": {
    "jupyter": {
     "outputs_hidden": true
    }
   },
   "outputs": [],
   "source": [
    "circle  = 2**2 * constants['pi']\n",
    "circle"
   ]
  },
  {
   "cell_type": "code",
   "execution_count": null,
   "metadata": {},
   "outputs": [],
   "source": [
    "# You can split up dicts onto many lines\n",
    "constants = {\n",
    "    'pi': 3.14159,\n",
    "    \"e\": 2.718,\n",
    "    \"h\": 6.62606957e-34,\n",
    "    True: 1.0,\n",
    "    }\n",
    "\n",
    "constants['pi']\n",
    "cir = 2*constants['pi']*2\n",
    "cir"
   ]
  },
  {
   "cell_type": "code",
   "execution_count": null,
   "metadata": {},
   "outputs": [],
   "source": [
    "# A dict being formed from a list of (key, value) tuples\n",
    "axes = dict([(1, \"x\"), (2, \"y\"), (3, \"z\")])\n",
    "axes[1]\n",
    "\n",
    "data = {'temperature':[1,2,3,4,5],'deformazione':[1,2,3,4]}\n",
    "\n",
    "data['temperature']"
   ]
  },
  {
   "cell_type": "code",
   "execution_count": null,
   "metadata": {
    "jupyter": {
     "outputs_hidden": true
    }
   },
   "outputs": [],
   "source": [
    "constants['e']"
   ]
  },
  {
   "cell_type": "code",
   "execution_count": null,
   "metadata": {
    "jupyter": {
     "outputs_hidden": true
    }
   },
   "outputs": [],
   "source": [
    "axes[3]"
   ]
  },
  {
   "cell_type": "code",
   "execution_count": null,
   "metadata": {
    "jupyter": {
     "outputs_hidden": true
    }
   },
   "outputs": [],
   "source": [
    "al['birthday']"
   ]
  },
  {
   "cell_type": "code",
   "execution_count": null,
   "metadata": {},
   "outputs": [],
   "source": [
    "# add a field to the dictionary\n",
    "constants[False] = 0.0\n",
    "constants"
   ]
  },
  {
   "cell_type": "code",
   "execution_count": null,
   "metadata": {},
   "outputs": [],
   "source": [
    "# delete a field in the dictionary\n",
    "del axes[3]\n",
    "axes"
   ]
  },
  {
   "cell_type": "code",
   "execution_count": null,
   "metadata": {},
   "outputs": [],
   "source": [
    "# change the value of a filed\n",
    "al['first'] = \"You can call me Al\"\n",
    "al"
   ]
  },
  {
   "cell_type": "code",
   "execution_count": null,
   "metadata": {
    "jupyter": {
     "outputs_hidden": true
    }
   },
   "outputs": [],
   "source": [
    "al"
   ]
  },
  {
   "cell_type": "markdown",
   "metadata": {},
   "source": [
    "Dictionaries have a lot of useful methods on them as well. For now, content yourself\n",
    "with the update() method. This incorporates another dictionary or list of tuples inplace\n",
    "into the current dict. The update process overwrites any overlapping keys:"
   ]
  },
  {
   "cell_type": "code",
   "execution_count": null,
   "metadata": {},
   "outputs": [],
   "source": [
    "axes.update({1: 'r', 2: 'phi', 3: 'theta'})\n",
    "axes"
   ]
  },
  {
   "cell_type": "markdown",
   "metadata": {},
   "source": [
    "#### Let's do some practice ####\n"
   ]
  },
  {
   "cell_type": "code",
   "execution_count": null,
   "metadata": {},
   "outputs": [],
   "source": [
    "data = {'names':['pippo','pluto','minni'],'age':[23,14,15,16]}\n",
    "data['names'][1:2]\n"
   ]
  },
  {
   "cell_type": "code",
   "execution_count": null,
   "metadata": {},
   "outputs": [],
   "source": [
    "data['names'][1]='junk'\n",
    "data['names']\n",
    "data['city'] = ['rome','milan']"
   ]
  },
  {
   "cell_type": "markdown",
   "metadata": {},
   "source": [
    "## Containers Wrap-up  \n",
    "You should now be familiar with the following concepts:  \n",
    "\n",
    "• Mutability and immutability  \n",
    "• Duck typing  \n",
    "• Lists and tuples  \n",
    "• Hash functions  \n",
    "• Sets and dictionaries  \n",
    "These data containers and their underlying concepts are the building blocks for\n",
    "higher-level, more complex structures. They let you represent your data in the way\n",
    "that makes the most sense for the problem at hand."
   ]
  }
 ],
 "metadata": {
  "celltoolbar": "Slideshow",
  "kernelspec": {
   "display_name": "Python 3 (ipykernel)",
   "language": "python",
   "name": "python3"
  },
  "language_info": {
   "codemirror_mode": {
    "name": "ipython",
    "version": 3
   },
   "file_extension": ".py",
   "mimetype": "text/x-python",
   "name": "python",
   "nbconvert_exporter": "python",
   "pygments_lexer": "ipython3",
   "version": "3.9.13"
  }
 },
 "nbformat": 4,
 "nbformat_minor": 4
}
