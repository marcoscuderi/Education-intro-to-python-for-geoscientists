{
 "cells": [
  {
   "cell_type": "markdown",
   "metadata": {},
   "source": [
    "# Pandas"
   ]
  },
  {
   "cell_type": "markdown",
   "metadata": {},
   "source": [
    "This is the last **data structure** that we will see and probably the most used and flexible.  \n",
    "You can think about **Pandas as a NumPy array** (of n dimensions) on steroids. In fact pandas is specifically designed to make data cleaning and analysis fast and easy. It is often used in tandem with NumPy, SciPy and Matplotlib. Pandas shares many idiomatic style sintax with NumPy since it is an array-based computing (no need of much for loops).  \n",
    "However, the biggest difference with NumPy, is that **Pandas is designad to work with tabular or heterogenous data**, while NumPy is best suited to work with homogenous numerical array data.  \n",
    "Since the first distribution in 2010, Pandas has grown exponentially and nowdays is an essential tool for data analysis in particular seismologists, geodesist and anyone who has to deal with long time series and heterogenous data use this data structure. "
   ]
  },
  {
   "cell_type": "markdown",
   "metadata": {},
   "source": [
    "**Note abou this notebook**  \n",
    "This notebook is by far an exaustive explanation of Pandas. I have selected **only the 0.1% of informations** that you need to get started.  \n",
    "I very strongly encourage you to make the next step using these references:  \n",
    "- [SciPy Pandas tutorial](https://www.youtube.com/watch?v=5rNu16O3YNE)\n",
    "- Wes McKinney, Python for data analysis (2nd Edition) Published by O'Reilly. \n",
    "- Never forget that there is the [official documentation](https://pandas.pydata.org/pandas-docs/stable/reference/index.html#api)"
   ]
  },
  {
   "cell_type": "code",
   "execution_count": 1,
   "metadata": {},
   "outputs": [],
   "source": [
    "import pandas as pd\n",
    "import numpy as np"
   ]
  },
  {
   "cell_type": "markdown",
   "metadata": {},
   "source": [
    "# 1. Pandas data structures"
   ]
  },
  {
   "cell_type": "markdown",
   "metadata": {},
   "source": [
    "Pandas has two main data structures:  \n",
    "- `Series` (1-dimensional array)\n",
    "- `DataFrame` (n-dimensional array)"
   ]
  },
  {
   "cell_type": "markdown",
   "metadata": {},
   "source": [
    "### 1.1 Series"
   ]
  },
  {
   "cell_type": "markdown",
   "metadata": {},
   "source": [
    "A Series is a one-dimensional array-like object containing a sequence of values (of similar types to NumPy types) and an associated array of data labels, called its ***index***."
   ]
  },
  {
   "cell_type": "code",
   "execution_count": 4,
   "metadata": {},
   "outputs": [
    {
     "name": "stdout",
     "output_type": "stream",
     "text": [
      "0    1\n",
      "1    2\n",
      "2    3\n",
      "3    4\n",
      "4    5\n",
      "dtype: int64\n",
      "[1 2 3]\n"
     ]
    }
   ],
   "source": [
    "obj = pd.Series([1,2,3,4,5])\n",
    "\n",
    "junk = np.array([1,2,3])\n",
    "\n",
    "print(obj)\n",
    "print(junk)"
   ]
  },
  {
   "cell_type": "code",
   "execution_count": 9,
   "metadata": {},
   "outputs": [
    {
     "name": "stdout",
     "output_type": "stream",
     "text": [
      "[1 2 3 4 5]\n",
      "RangeIndex(start=0, stop=5, step=1)\n"
     ]
    },
    {
     "data": {
      "text/plain": [
       "5"
      ]
     },
     "execution_count": 9,
     "metadata": {},
     "output_type": "execute_result"
    }
   ],
   "source": [
    "print (obj.values)\n",
    "print (obj.index) # if no index is specified, by default it is assigned an integer of 0 - (N-1)\n",
    "obj[4]"
   ]
  },
  {
   "cell_type": "markdown",
   "metadata": {},
   "source": [
    "The powe of Pandas is that I can assign **index** that identify each data point with a **label**."
   ]
  },
  {
   "cell_type": "code",
   "execution_count": 10,
   "metadata": {},
   "outputs": [
    {
     "data": {
      "text/plain": [
       "a    1\n",
       "b    2\n",
       "c    3\n",
       "d    4\n",
       "dtype: int64"
      ]
     },
     "execution_count": 10,
     "metadata": {},
     "output_type": "execute_result"
    }
   ],
   "source": [
    "obj2 = pd.Series([1,2,3,4], index=['a','b','c','d'])\n",
    "obj2"
   ]
  },
  {
   "cell_type": "code",
   "execution_count": 12,
   "metadata": {},
   "outputs": [
    {
     "data": {
      "text/plain": [
       "1"
      ]
     },
     "execution_count": 12,
     "metadata": {},
     "output_type": "execute_result"
    }
   ],
   "source": [
    "obj2.index\n",
    "obj2['a']"
   ]
  },
  {
   "cell_type": "markdown",
   "metadata": {},
   "source": [
    "The power of index is that I can access values through the index name"
   ]
  },
  {
   "cell_type": "code",
   "execution_count": 13,
   "metadata": {},
   "outputs": [
    {
     "name": "stdout",
     "output_type": "stream",
     "text": [
      "Access a value:  2\n",
      "\n",
      "access multiple values: \n",
      "b    2\n",
      "d    4\n",
      "dtype: int64\n",
      "re-assign value: \n",
      "a     1\n",
      "b     2\n",
      "c     3\n",
      "d    99\n",
      "dtype: int64\n"
     ]
    }
   ],
   "source": [
    "print ('Access a value: ', obj2.b)\n",
    "print ('')          \n",
    "print ('access multiple values: ')\n",
    "print(obj2[['b','d']])\n",
    "obj2.d = 99             \n",
    "print ('re-assign value: ')\n",
    "print(obj2)"
   ]
  },
  {
   "cell_type": "markdown",
   "metadata": {},
   "source": [
    "Using **NumPy functions** or NumPy-like operations, such as filtering with a boolean array, scalar multiplication, or applying math functions, will preserve the index-value link:"
   ]
  },
  {
   "cell_type": "code",
   "execution_count": 15,
   "metadata": {},
   "outputs": [
    {
     "name": "stdout",
     "output_type": "stream",
     "text": [
      "b     2\n",
      "c     3\n",
      "d    99\n",
      "dtype: int64\n",
      "a      2\n",
      "b      4\n",
      "c      6\n",
      "d    198\n",
      "dtype: int64\n",
      "a    2.718282e+00\n",
      "b    7.389056e+00\n",
      "c    2.008554e+01\n",
      "d    9.889030e+42\n",
      "dtype: float64\n"
     ]
    }
   ],
   "source": [
    "print (obj2[obj2 >2])\n",
    "print (obj2*2)\n",
    "print (np.exp(obj2))"
   ]
  },
  {
   "cell_type": "markdown",
   "metadata": {},
   "source": [
    "Another way to think about a Series is as a fixed-length, ordered dictionary, as it is a mapping of index values to data values. It can be used in many contexts where you might use a dict"
   ]
  },
  {
   "cell_type": "code",
   "execution_count": 16,
   "metadata": {},
   "outputs": [
    {
     "name": "stdout",
     "output_type": "stream",
     "text": [
      "True\n",
      "False\n"
     ]
    }
   ],
   "source": [
    "print ('b' in obj2)\n",
    "print ('f' in obj2)"
   ]
  },
  {
   "cell_type": "markdown",
   "metadata": {},
   "source": [
    "We can create Series from dictionaries"
   ]
  },
  {
   "cell_type": "code",
   "execution_count": 22,
   "metadata": {},
   "outputs": [
    {
     "data": {
      "text/plain": [
       "measures    100\n",
       "positive     30\n",
       "negative     50\n",
       "failed       20\n",
       "dtype: int64"
      ]
     },
     "execution_count": 22,
     "metadata": {},
     "output_type": "execute_result"
    }
   ],
   "source": [
    "data = {'measures':100, 'positive':30, 'negative':50, 'failed':20}\n",
    "obj3 = pd.Series(data)\n",
    "obj3"
   ]
  },
  {
   "cell_type": "markdown",
   "metadata": {},
   "source": [
    "We can change the order of the Series by passing a index order"
   ]
  },
  {
   "cell_type": "code",
   "execution_count": 23,
   "metadata": {},
   "outputs": [
    {
     "data": {
      "text/plain": [
       "measures    100\n",
       "failed       20\n",
       "negative     50\n",
       "positive     30\n",
       "dtype: int64"
      ]
     },
     "execution_count": 23,
     "metadata": {},
     "output_type": "execute_result"
    }
   ],
   "source": [
    "values = ['measures','failed','negative','positive']\n",
    "obj4 = pd.Series(data, index=values)\n",
    "obj4"
   ]
  },
  {
   "cell_type": "markdown",
   "metadata": {},
   "source": [
    "When we compute arithmetric operations between two series that have the same indexes, Pandas authomatically aligns the labels. "
   ]
  },
  {
   "cell_type": "code",
   "execution_count": 24,
   "metadata": {},
   "outputs": [
    {
     "data": {
      "text/plain": [
       "failed       40\n",
       "measures    200\n",
       "negative    100\n",
       "positive     60\n",
       "dtype: int64"
      ]
     },
     "execution_count": 24,
     "metadata": {},
     "output_type": "execute_result"
    }
   ],
   "source": [
    "obj3 + obj4"
   ]
  },
  {
   "cell_type": "markdown",
   "metadata": {},
   "source": [
    "Both the Series object itself and its index have a name attribute, which integrates with other key areas of pandas functionality"
   ]
  },
  {
   "cell_type": "code",
   "execution_count": 25,
   "metadata": {},
   "outputs": [
    {
     "data": {
      "text/plain": [
       "log\n",
       "measures    100\n",
       "failed       20\n",
       "negative     50\n",
       "positive     30\n",
       "Name: today measures, dtype: int64"
      ]
     },
     "execution_count": 25,
     "metadata": {},
     "output_type": "execute_result"
    }
   ],
   "source": [
    "obj4.name = 'today measures'\n",
    "obj4.index.name = 'log'\n",
    "obj4"
   ]
  },
  {
   "cell_type": "markdown",
   "metadata": {},
   "source": [
    "### 1.2 DataFrame"
   ]
  },
  {
   "cell_type": "markdown",
   "metadata": {},
   "source": [
    "DataFrame represents a rectangular table of data and contains an ordered collection of columns, each of which can be a different value type (numeric, string, boolean, etc.). The DataFrame has both a row and column index; it can be thought of as a dict of Series all sharing the same index or a NumPy 2D array."
   ]
  },
  {
   "cell_type": "code",
   "execution_count": 26,
   "metadata": {},
   "outputs": [
    {
     "data": {
      "text/html": [
       "<div>\n",
       "<style scoped>\n",
       "    .dataframe tbody tr th:only-of-type {\n",
       "        vertical-align: middle;\n",
       "    }\n",
       "\n",
       "    .dataframe tbody tr th {\n",
       "        vertical-align: top;\n",
       "    }\n",
       "\n",
       "    .dataframe thead th {\n",
       "        text-align: right;\n",
       "    }\n",
       "</style>\n",
       "<table border=\"1\" class=\"dataframe\">\n",
       "  <thead>\n",
       "    <tr style=\"text-align: right;\">\n",
       "      <th></th>\n",
       "      <th>students</th>\n",
       "      <th>exam1</th>\n",
       "      <th>exam2</th>\n",
       "    </tr>\n",
       "  </thead>\n",
       "  <tbody>\n",
       "    <tr>\n",
       "      <th>0</th>\n",
       "      <td>pippo</td>\n",
       "      <td>18</td>\n",
       "      <td>20</td>\n",
       "    </tr>\n",
       "    <tr>\n",
       "      <th>1</th>\n",
       "      <td>pluto</td>\n",
       "      <td>20</td>\n",
       "      <td>22</td>\n",
       "    </tr>\n",
       "    <tr>\n",
       "      <th>2</th>\n",
       "      <td>paperino</td>\n",
       "      <td>28</td>\n",
       "      <td>18</td>\n",
       "    </tr>\n",
       "    <tr>\n",
       "      <th>3</th>\n",
       "      <td>minni</td>\n",
       "      <td>30</td>\n",
       "      <td>30</td>\n",
       "    </tr>\n",
       "  </tbody>\n",
       "</table>\n",
       "</div>"
      ],
      "text/plain": [
       "   students  exam1  exam2\n",
       "0     pippo     18     20\n",
       "1     pluto     20     22\n",
       "2  paperino     28     18\n",
       "3     minni     30     30"
      ]
     },
     "execution_count": 26,
     "metadata": {},
     "output_type": "execute_result"
    }
   ],
   "source": [
    "data = {'students':['pippo','pluto','paperino','minni'],\n",
    "        'exam1':[18,20,28,30],\n",
    "        'exam2':[20,22,18,30]\n",
    "       }\n",
    "frame = pd.DataFrame(data)\n",
    "frame"
   ]
  },
  {
   "cell_type": "code",
   "execution_count": 27,
   "metadata": {},
   "outputs": [
    {
     "data": {
      "text/html": [
       "<div>\n",
       "<style scoped>\n",
       "    .dataframe tbody tr th:only-of-type {\n",
       "        vertical-align: middle;\n",
       "    }\n",
       "\n",
       "    .dataframe tbody tr th {\n",
       "        vertical-align: top;\n",
       "    }\n",
       "\n",
       "    .dataframe thead th {\n",
       "        text-align: right;\n",
       "    }\n",
       "</style>\n",
       "<table border=\"1\" class=\"dataframe\">\n",
       "  <thead>\n",
       "    <tr style=\"text-align: right;\">\n",
       "      <th></th>\n",
       "      <th>students</th>\n",
       "      <th>exam1</th>\n",
       "      <th>exam2</th>\n",
       "    </tr>\n",
       "  </thead>\n",
       "  <tbody>\n",
       "    <tr>\n",
       "      <th>0</th>\n",
       "      <td>pippo</td>\n",
       "      <td>18</td>\n",
       "      <td>20</td>\n",
       "    </tr>\n",
       "    <tr>\n",
       "      <th>1</th>\n",
       "      <td>pluto</td>\n",
       "      <td>20</td>\n",
       "      <td>22</td>\n",
       "    </tr>\n",
       "    <tr>\n",
       "      <th>2</th>\n",
       "      <td>paperino</td>\n",
       "      <td>28</td>\n",
       "      <td>18</td>\n",
       "    </tr>\n",
       "    <tr>\n",
       "      <th>3</th>\n",
       "      <td>minni</td>\n",
       "      <td>30</td>\n",
       "      <td>30</td>\n",
       "    </tr>\n",
       "  </tbody>\n",
       "</table>\n",
       "</div>"
      ],
      "text/plain": [
       "   students  exam1  exam2\n",
       "0     pippo     18     20\n",
       "1     pluto     20     22\n",
       "2  paperino     28     18\n",
       "3     minni     30     30"
      ]
     },
     "execution_count": 27,
     "metadata": {},
     "output_type": "execute_result"
    }
   ],
   "source": [
    "frame.head() # for large dataset you can use the head() method to acces only the first part"
   ]
  },
  {
   "cell_type": "code",
   "execution_count": 33,
   "metadata": {},
   "outputs": [
    {
     "data": {
      "text/html": [
       "<div>\n",
       "<style scoped>\n",
       "    .dataframe tbody tr th:only-of-type {\n",
       "        vertical-align: middle;\n",
       "    }\n",
       "\n",
       "    .dataframe tbody tr th {\n",
       "        vertical-align: top;\n",
       "    }\n",
       "\n",
       "    .dataframe thead th {\n",
       "        text-align: right;\n",
       "    }\n",
       "</style>\n",
       "<table border=\"1\" class=\"dataframe\">\n",
       "  <thead>\n",
       "    <tr style=\"text-align: right;\">\n",
       "      <th></th>\n",
       "      <th>exam1</th>\n",
       "      <th>exam2</th>\n",
       "      <th>students</th>\n",
       "    </tr>\n",
       "  </thead>\n",
       "  <tbody>\n",
       "    <tr>\n",
       "      <th>a</th>\n",
       "      <td>18</td>\n",
       "      <td>20</td>\n",
       "      <td>pippo</td>\n",
       "    </tr>\n",
       "    <tr>\n",
       "      <th>b</th>\n",
       "      <td>20</td>\n",
       "      <td>22</td>\n",
       "      <td>pluto</td>\n",
       "    </tr>\n",
       "    <tr>\n",
       "      <th>c</th>\n",
       "      <td>28</td>\n",
       "      <td>18</td>\n",
       "      <td>paperino</td>\n",
       "    </tr>\n",
       "    <tr>\n",
       "      <th>d</th>\n",
       "      <td>30</td>\n",
       "      <td>30</td>\n",
       "      <td>minni</td>\n",
       "    </tr>\n",
       "  </tbody>\n",
       "</table>\n",
       "</div>"
      ],
      "text/plain": [
       "   exam1  exam2  students\n",
       "a     18     20     pippo\n",
       "b     20     22     pluto\n",
       "c     28     18  paperino\n",
       "d     30     30     minni"
      ]
     },
     "execution_count": 33,
     "metadata": {},
     "output_type": "execute_result"
    }
   ],
   "source": [
    "# as before you can choose the order of the columns \n",
    "frame= pd.DataFrame(data, columns=['exam1','exam2','students'],index=['a','b','c','d'])\n",
    "frame"
   ]
  },
  {
   "cell_type": "code",
   "execution_count": 32,
   "metadata": {},
   "outputs": [
    {
     "data": {
      "text/plain": [
       "a    18\n",
       "b    20\n",
       "c    28\n",
       "d    30\n",
       "Name: exam1, dtype: int64"
      ]
     },
     "execution_count": 32,
     "metadata": {},
     "output_type": "execute_result"
    }
   ],
   "source": [
    "frame.exam1"
   ]
  },
  {
   "cell_type": "code",
   "execution_count": 34,
   "metadata": {},
   "outputs": [
    {
     "data": {
      "text/html": [
       "<div>\n",
       "<style scoped>\n",
       "    .dataframe tbody tr th:only-of-type {\n",
       "        vertical-align: middle;\n",
       "    }\n",
       "\n",
       "    .dataframe tbody tr th {\n",
       "        vertical-align: top;\n",
       "    }\n",
       "\n",
       "    .dataframe thead th {\n",
       "        text-align: right;\n",
       "    }\n",
       "</style>\n",
       "<table border=\"1\" class=\"dataframe\">\n",
       "  <thead>\n",
       "    <tr style=\"text-align: right;\">\n",
       "      <th></th>\n",
       "      <th>exam1</th>\n",
       "      <th>exam2</th>\n",
       "    </tr>\n",
       "  </thead>\n",
       "  <tbody>\n",
       "    <tr>\n",
       "      <th>pippo</th>\n",
       "      <td>18</td>\n",
       "      <td>20</td>\n",
       "    </tr>\n",
       "    <tr>\n",
       "      <th>pluto</th>\n",
       "      <td>20</td>\n",
       "      <td>22</td>\n",
       "    </tr>\n",
       "    <tr>\n",
       "      <th>paperino</th>\n",
       "      <td>28</td>\n",
       "      <td>18</td>\n",
       "    </tr>\n",
       "    <tr>\n",
       "      <th>minni</th>\n",
       "      <td>30</td>\n",
       "      <td>30</td>\n",
       "    </tr>\n",
       "  </tbody>\n",
       "</table>\n",
       "</div>"
      ],
      "text/plain": [
       "          exam1  exam2\n",
       "pippo        18     20\n",
       "pluto        20     22\n",
       "paperino     28     18\n",
       "minni        30     30"
      ]
     },
     "execution_count": 34,
     "metadata": {},
     "output_type": "execute_result"
    }
   ],
   "source": [
    "# we can use an element of the dictionary as an index\n",
    "frame = pd.DataFrame(data, columns=['exam1','exam2'], index=[data['students']])\n",
    "frame"
   ]
  },
  {
   "cell_type": "code",
   "execution_count": 38,
   "metadata": {},
   "outputs": [
    {
     "data": {
      "text/html": [
       "<div>\n",
       "<style scoped>\n",
       "    .dataframe tbody tr th:only-of-type {\n",
       "        vertical-align: middle;\n",
       "    }\n",
       "\n",
       "    .dataframe tbody tr th {\n",
       "        vertical-align: top;\n",
       "    }\n",
       "\n",
       "    .dataframe thead th {\n",
       "        text-align: right;\n",
       "    }\n",
       "</style>\n",
       "<table border=\"1\" class=\"dataframe\">\n",
       "  <thead>\n",
       "    <tr style=\"text-align: right;\">\n",
       "      <th></th>\n",
       "      <th>exam1</th>\n",
       "      <th>exam2</th>\n",
       "    </tr>\n",
       "  </thead>\n",
       "  <tbody>\n",
       "    <tr>\n",
       "      <th>pippo</th>\n",
       "      <td>18</td>\n",
       "      <td>20</td>\n",
       "    </tr>\n",
       "  </tbody>\n",
       "</table>\n",
       "</div>"
      ],
      "text/plain": [
       "       exam1  exam2\n",
       "pippo     18     20"
      ]
     },
     "execution_count": 38,
     "metadata": {},
     "output_type": "execute_result"
    }
   ],
   "source": [
    "frame.axam2 \n",
    "frame.loc['pippo']"
   ]
  },
  {
   "cell_type": "code",
   "execution_count": 39,
   "metadata": {},
   "outputs": [
    {
     "data": {
      "text/html": [
       "<div>\n",
       "<style scoped>\n",
       "    .dataframe tbody tr th:only-of-type {\n",
       "        vertical-align: middle;\n",
       "    }\n",
       "\n",
       "    .dataframe tbody tr th {\n",
       "        vertical-align: top;\n",
       "    }\n",
       "\n",
       "    .dataframe thead th {\n",
       "        text-align: right;\n",
       "    }\n",
       "</style>\n",
       "<table border=\"1\" class=\"dataframe\">\n",
       "  <thead>\n",
       "    <tr style=\"text-align: right;\">\n",
       "      <th></th>\n",
       "      <th>exam1</th>\n",
       "      <th>exam2</th>\n",
       "      <th>exam3</th>\n",
       "    </tr>\n",
       "  </thead>\n",
       "  <tbody>\n",
       "    <tr>\n",
       "      <th>pippo</th>\n",
       "      <td>18</td>\n",
       "      <td>20</td>\n",
       "      <td>NaN</td>\n",
       "    </tr>\n",
       "    <tr>\n",
       "      <th>pluto</th>\n",
       "      <td>20</td>\n",
       "      <td>22</td>\n",
       "      <td>NaN</td>\n",
       "    </tr>\n",
       "    <tr>\n",
       "      <th>paperino</th>\n",
       "      <td>28</td>\n",
       "      <td>18</td>\n",
       "      <td>NaN</td>\n",
       "    </tr>\n",
       "    <tr>\n",
       "      <th>minni</th>\n",
       "      <td>30</td>\n",
       "      <td>30</td>\n",
       "      <td>NaN</td>\n",
       "    </tr>\n",
       "  </tbody>\n",
       "</table>\n",
       "</div>"
      ],
      "text/plain": [
       "          exam1  exam2 exam3\n",
       "pippo        18     20   NaN\n",
       "pluto        20     22   NaN\n",
       "paperino     28     18   NaN\n",
       "minni        30     30   NaN"
      ]
     },
     "execution_count": 39,
     "metadata": {},
     "output_type": "execute_result"
    }
   ],
   "source": [
    "'''\n",
    "If you add a column that is not contained in the dictionary\n",
    "it will appear as missing values (NaN)\n",
    "'''\n",
    "frame = pd.DataFrame(data, columns=['exam1','exam2','exam3'], index=[data['students']])\n",
    "frame"
   ]
  },
  {
   "cell_type": "code",
   "execution_count": 40,
   "metadata": {},
   "outputs": [
    {
     "data": {
      "text/plain": [
       "pippo       NaN\n",
       "pluto       NaN\n",
       "paperino    NaN\n",
       "minni       NaN\n",
       "Name: exam3, dtype: object"
      ]
     },
     "execution_count": 40,
     "metadata": {},
     "output_type": "execute_result"
    }
   ],
   "source": [
    "frame.exam3"
   ]
  },
  {
   "cell_type": "markdown",
   "metadata": {},
   "source": [
    "A column in a DataFrame can be retrieved as a Series either by dict-like notation or by attribute"
   ]
  },
  {
   "cell_type": "code",
   "execution_count": 44,
   "metadata": {},
   "outputs": [
    {
     "name": "stdout",
     "output_type": "stream",
     "text": [
      "pippo       18\n",
      "pluto       20\n",
      "paperino    28\n",
      "minni       30\n",
      "Name: exam1, dtype: int64\n",
      "          exam1  exam2\n",
      "pippo        18     20\n",
      "pluto        20     22\n",
      "paperino     28     18\n",
      "minni        30     30\n"
     ]
    }
   ],
   "source": [
    "exam1 = frame.exam1\n",
    "print (exam1)\n",
    "exam1b = frame[['exam1','exam2']]\n",
    "print(exam1b)"
   ]
  },
  {
   "cell_type": "markdown",
   "metadata": {},
   "source": [
    "Columns can be modified by assignment. Let's say that now the students have given the third exam, I can assign the grades by:  \n",
    "n.b. the list or array that I assign must be of the same length as the DataFrame"
   ]
  },
  {
   "cell_type": "code",
   "execution_count": 47,
   "metadata": {},
   "outputs": [
    {
     "data": {
      "text/html": [
       "<div>\n",
       "<style scoped>\n",
       "    .dataframe tbody tr th:only-of-type {\n",
       "        vertical-align: middle;\n",
       "    }\n",
       "\n",
       "    .dataframe tbody tr th {\n",
       "        vertical-align: top;\n",
       "    }\n",
       "\n",
       "    .dataframe thead th {\n",
       "        text-align: right;\n",
       "    }\n",
       "</style>\n",
       "<table border=\"1\" class=\"dataframe\">\n",
       "  <thead>\n",
       "    <tr style=\"text-align: right;\">\n",
       "      <th></th>\n",
       "      <th>exam1</th>\n",
       "      <th>exam2</th>\n",
       "      <th>exam3</th>\n",
       "    </tr>\n",
       "  </thead>\n",
       "  <tbody>\n",
       "    <tr>\n",
       "      <th>pippo</th>\n",
       "      <td>18</td>\n",
       "      <td>20</td>\n",
       "      <td>19</td>\n",
       "    </tr>\n",
       "    <tr>\n",
       "      <th>pluto</th>\n",
       "      <td>20</td>\n",
       "      <td>22</td>\n",
       "      <td>23</td>\n",
       "    </tr>\n",
       "    <tr>\n",
       "      <th>paperino</th>\n",
       "      <td>28</td>\n",
       "      <td>18</td>\n",
       "      <td>30</td>\n",
       "    </tr>\n",
       "    <tr>\n",
       "      <th>minni</th>\n",
       "      <td>30</td>\n",
       "      <td>30</td>\n",
       "      <td>30</td>\n",
       "    </tr>\n",
       "  </tbody>\n",
       "</table>\n",
       "</div>"
      ],
      "text/plain": [
       "          exam1  exam2  exam3\n",
       "pippo        18     20     19\n",
       "pluto        20     22     23\n",
       "paperino     28     18     30\n",
       "minni        30     30     30"
      ]
     },
     "execution_count": 47,
     "metadata": {},
     "output_type": "execute_result"
    }
   ],
   "source": [
    "frame['exam3']=[19,23,30,30]\n",
    "frame"
   ]
  },
  {
   "cell_type": "markdown",
   "metadata": {},
   "source": [
    "Columns can be added by direct assignment"
   ]
  },
  {
   "cell_type": "code",
   "execution_count": 48,
   "metadata": {},
   "outputs": [
    {
     "data": {
      "text/html": [
       "<div>\n",
       "<style scoped>\n",
       "    .dataframe tbody tr th:only-of-type {\n",
       "        vertical-align: middle;\n",
       "    }\n",
       "\n",
       "    .dataframe tbody tr th {\n",
       "        vertical-align: top;\n",
       "    }\n",
       "\n",
       "    .dataframe thead th {\n",
       "        text-align: right;\n",
       "    }\n",
       "</style>\n",
       "<table border=\"1\" class=\"dataframe\">\n",
       "  <thead>\n",
       "    <tr style=\"text-align: right;\">\n",
       "      <th></th>\n",
       "      <th>exam1</th>\n",
       "      <th>exam2</th>\n",
       "      <th>exam3</th>\n",
       "      <th>exam4</th>\n",
       "    </tr>\n",
       "  </thead>\n",
       "  <tbody>\n",
       "    <tr>\n",
       "      <th>pippo</th>\n",
       "      <td>18</td>\n",
       "      <td>20</td>\n",
       "      <td>19</td>\n",
       "      <td>18</td>\n",
       "    </tr>\n",
       "    <tr>\n",
       "      <th>pluto</th>\n",
       "      <td>20</td>\n",
       "      <td>22</td>\n",
       "      <td>23</td>\n",
       "      <td>18</td>\n",
       "    </tr>\n",
       "    <tr>\n",
       "      <th>paperino</th>\n",
       "      <td>28</td>\n",
       "      <td>18</td>\n",
       "      <td>30</td>\n",
       "      <td>18</td>\n",
       "    </tr>\n",
       "    <tr>\n",
       "      <th>minni</th>\n",
       "      <td>30</td>\n",
       "      <td>30</td>\n",
       "      <td>30</td>\n",
       "      <td>18</td>\n",
       "    </tr>\n",
       "  </tbody>\n",
       "</table>\n",
       "</div>"
      ],
      "text/plain": [
       "          exam1  exam2  exam3  exam4\n",
       "pippo        18     20     19     18\n",
       "pluto        20     22     23     18\n",
       "paperino     28     18     30     18\n",
       "minni        30     30     30     18"
      ]
     },
     "execution_count": 48,
     "metadata": {},
     "output_type": "execute_result"
    }
   ],
   "source": [
    "frame['exam4'] = [18,18,18,18]\n",
    "frame"
   ]
  },
  {
   "cell_type": "markdown",
   "metadata": {},
   "source": [
    "Operation between DataFrames and Series are performed index-wise. If you assign a Series, its labels will be realigned exactly to the DataFrame’s index, inserting missing values in any holes."
   ]
  },
  {
   "cell_type": "code",
   "execution_count": 49,
   "metadata": {},
   "outputs": [
    {
     "name": "stdout",
     "output_type": "stream",
     "text": [
      "pippo    30\n",
      "minni    20\n",
      "dtype: int64\n"
     ]
    },
    {
     "data": {
      "text/html": [
       "<div>\n",
       "<style scoped>\n",
       "    .dataframe tbody tr th:only-of-type {\n",
       "        vertical-align: middle;\n",
       "    }\n",
       "\n",
       "    .dataframe tbody tr th {\n",
       "        vertical-align: top;\n",
       "    }\n",
       "\n",
       "    .dataframe thead th {\n",
       "        text-align: right;\n",
       "    }\n",
       "</style>\n",
       "<table border=\"1\" class=\"dataframe\">\n",
       "  <thead>\n",
       "    <tr style=\"text-align: right;\">\n",
       "      <th></th>\n",
       "      <th>exam1</th>\n",
       "      <th>exam2</th>\n",
       "      <th>exam3</th>\n",
       "      <th>exam5</th>\n",
       "    </tr>\n",
       "  </thead>\n",
       "  <tbody>\n",
       "    <tr>\n",
       "      <th>pippo</th>\n",
       "      <td>18</td>\n",
       "      <td>20</td>\n",
       "      <td>NaN</td>\n",
       "      <td>30.0</td>\n",
       "    </tr>\n",
       "    <tr>\n",
       "      <th>pluto</th>\n",
       "      <td>20</td>\n",
       "      <td>22</td>\n",
       "      <td>NaN</td>\n",
       "      <td>NaN</td>\n",
       "    </tr>\n",
       "    <tr>\n",
       "      <th>paperino</th>\n",
       "      <td>28</td>\n",
       "      <td>18</td>\n",
       "      <td>NaN</td>\n",
       "      <td>NaN</td>\n",
       "    </tr>\n",
       "    <tr>\n",
       "      <th>minni</th>\n",
       "      <td>30</td>\n",
       "      <td>30</td>\n",
       "      <td>NaN</td>\n",
       "      <td>20.0</td>\n",
       "    </tr>\n",
       "  </tbody>\n",
       "</table>\n",
       "</div>"
      ],
      "text/plain": [
       "          exam1  exam2 exam3  exam5\n",
       "pippo        18     20   NaN   30.0\n",
       "pluto        20     22   NaN    NaN\n",
       "paperino     28     18   NaN    NaN\n",
       "minni        30     30   NaN   20.0"
      ]
     },
     "execution_count": 49,
     "metadata": {},
     "output_type": "execute_result"
    }
   ],
   "source": [
    "frame = pd.DataFrame(data, columns=['exam1','exam2','exam3'], index=['pippo','pluto','paperino','minni'])\n",
    "\n",
    "new = pd.Series([30,20], index=['pippo','minni'])\n",
    "frame['exam5'] = new\n",
    "\n",
    "print(new)\n",
    "frame"
   ]
  },
  {
   "cell_type": "code",
   "execution_count": 50,
   "metadata": {},
   "outputs": [
    {
     "data": {
      "text/html": [
       "<div>\n",
       "<style scoped>\n",
       "    .dataframe tbody tr th:only-of-type {\n",
       "        vertical-align: middle;\n",
       "    }\n",
       "\n",
       "    .dataframe tbody tr th {\n",
       "        vertical-align: top;\n",
       "    }\n",
       "\n",
       "    .dataframe thead th {\n",
       "        text-align: right;\n",
       "    }\n",
       "</style>\n",
       "<table border=\"1\" class=\"dataframe\">\n",
       "  <thead>\n",
       "    <tr style=\"text-align: right;\">\n",
       "      <th></th>\n",
       "      <th>exam1</th>\n",
       "      <th>exam2</th>\n",
       "      <th>exam5</th>\n",
       "    </tr>\n",
       "  </thead>\n",
       "  <tbody>\n",
       "    <tr>\n",
       "      <th>pippo</th>\n",
       "      <td>18</td>\n",
       "      <td>20</td>\n",
       "      <td>30.0</td>\n",
       "    </tr>\n",
       "    <tr>\n",
       "      <th>pluto</th>\n",
       "      <td>20</td>\n",
       "      <td>22</td>\n",
       "      <td>NaN</td>\n",
       "    </tr>\n",
       "    <tr>\n",
       "      <th>paperino</th>\n",
       "      <td>28</td>\n",
       "      <td>18</td>\n",
       "      <td>NaN</td>\n",
       "    </tr>\n",
       "    <tr>\n",
       "      <th>minni</th>\n",
       "      <td>30</td>\n",
       "      <td>30</td>\n",
       "      <td>20.0</td>\n",
       "    </tr>\n",
       "  </tbody>\n",
       "</table>\n",
       "</div>"
      ],
      "text/plain": [
       "          exam1  exam2  exam5\n",
       "pippo        18     20   30.0\n",
       "pluto        20     22    NaN\n",
       "paperino     28     18    NaN\n",
       "minni        30     30   20.0"
      ]
     },
     "execution_count": 50,
     "metadata": {},
     "output_type": "execute_result"
    }
   ],
   "source": [
    "# delete a column \n",
    "del frame['exam3']\n",
    "frame"
   ]
  },
  {
   "cell_type": "markdown",
   "metadata": {},
   "source": [
    "Another common form of data is a **nested dict of dicts**.  \n",
    "If the nested dict is passed to the DataFrame, pandas will interpret the outer dict keys\n",
    "as the **columns** and the inner keys as the **row** indices"
   ]
  },
  {
   "cell_type": "code",
   "execution_count": 51,
   "metadata": {},
   "outputs": [
    {
     "data": {
      "text/html": [
       "<div>\n",
       "<style scoped>\n",
       "    .dataframe tbody tr th:only-of-type {\n",
       "        vertical-align: middle;\n",
       "    }\n",
       "\n",
       "    .dataframe tbody tr th {\n",
       "        vertical-align: top;\n",
       "    }\n",
       "\n",
       "    .dataframe thead th {\n",
       "        text-align: right;\n",
       "    }\n",
       "</style>\n",
       "<table border=\"1\" class=\"dataframe\">\n",
       "  <thead>\n",
       "    <tr style=\"text-align: right;\">\n",
       "      <th></th>\n",
       "      <th>exam1</th>\n",
       "      <th>exam2</th>\n",
       "    </tr>\n",
       "  </thead>\n",
       "  <tbody>\n",
       "    <tr>\n",
       "      <th>pippo</th>\n",
       "      <td>18</td>\n",
       "      <td>30</td>\n",
       "    </tr>\n",
       "    <tr>\n",
       "      <th>pluto</th>\n",
       "      <td>20</td>\n",
       "      <td>18</td>\n",
       "    </tr>\n",
       "    <tr>\n",
       "      <th>minni</th>\n",
       "      <td>30</td>\n",
       "      <td>25</td>\n",
       "    </tr>\n",
       "  </tbody>\n",
       "</table>\n",
       "</div>"
      ],
      "text/plain": [
       "       exam1  exam2\n",
       "pippo     18     30\n",
       "pluto     20     18\n",
       "minni     30     25"
      ]
     },
     "execution_count": 51,
     "metadata": {},
     "output_type": "execute_result"
    }
   ],
   "source": [
    "data = {'exam1':{'pippo':18,'pluto':20,'minni':30},\n",
    "        'exam2':{'pippo':30,'pluto':18,'minni':25}\n",
    "}\n",
    "frame = pd.DataFrame(data)\n",
    "frame"
   ]
  },
  {
   "cell_type": "markdown",
   "metadata": {},
   "source": [
    "Transpose the axis"
   ]
  },
  {
   "cell_type": "code",
   "execution_count": 52,
   "metadata": {},
   "outputs": [
    {
     "data": {
      "text/html": [
       "<div>\n",
       "<style scoped>\n",
       "    .dataframe tbody tr th:only-of-type {\n",
       "        vertical-align: middle;\n",
       "    }\n",
       "\n",
       "    .dataframe tbody tr th {\n",
       "        vertical-align: top;\n",
       "    }\n",
       "\n",
       "    .dataframe thead th {\n",
       "        text-align: right;\n",
       "    }\n",
       "</style>\n",
       "<table border=\"1\" class=\"dataframe\">\n",
       "  <thead>\n",
       "    <tr style=\"text-align: right;\">\n",
       "      <th></th>\n",
       "      <th>pippo</th>\n",
       "      <th>pluto</th>\n",
       "      <th>minni</th>\n",
       "    </tr>\n",
       "  </thead>\n",
       "  <tbody>\n",
       "    <tr>\n",
       "      <th>exam1</th>\n",
       "      <td>18</td>\n",
       "      <td>20</td>\n",
       "      <td>30</td>\n",
       "    </tr>\n",
       "    <tr>\n",
       "      <th>exam2</th>\n",
       "      <td>30</td>\n",
       "      <td>18</td>\n",
       "      <td>25</td>\n",
       "    </tr>\n",
       "  </tbody>\n",
       "</table>\n",
       "</div>"
      ],
      "text/plain": [
       "       pippo  pluto  minni\n",
       "exam1     18     20     30\n",
       "exam2     30     18     25"
      ]
     },
     "execution_count": 52,
     "metadata": {},
     "output_type": "execute_result"
    }
   ],
   "source": [
    "frame.T"
   ]
  },
  {
   "cell_type": "markdown",
   "metadata": {},
   "source": [
    "Clearly not only dictionaries can be used to construct DataFrames. Here is a list of possible **DataFrame constructor**.  \n",
    "\n",
    "| type | notes |  \n",
    "|-----|-----|  \n",
    "| 2D ndarray | A matrix of data, passing optional row and column labels | \n",
    "| dict of arrayslists, or tuples | Each sequence becomes a column in the DataFrame all sequences must be the same length |  \n",
    "| NumPy structured/record array | Treated as the “dict of arrays” case |  \n",
    "| dict of Series | Each value becomes a column; indexes from each Series are unioned together to form the result’s row index if no explicit index is passed |  \n",
    "| \n",
    "| dict of dicts |  Each inner dict becomes a column; keys are unioned to form the row index as in the “dict of Series” case |  \n",
    "| List of dicts or Series | Each item becomes a row in the DataFrame; union of dict keys or Series indexes become the DataFrame’s column labels |  \n",
    "| List of lists or tuples | Treated as the “2D ndarray” case |  \n",
    "| Another DataFrame | The DataFrame’s indexes are used unless diferent ones are passed |  \n",
    "| NumPy MaskedArray | Like the “2D ndarray” case except masked values become NA/missing in the DataFrame result |"
   ]
  },
  {
   "cell_type": "markdown",
   "metadata": {},
   "source": [
    "# 2. Pandas Indexing, selection and filtering"
   ]
  },
  {
   "cell_type": "markdown",
   "metadata": {},
   "source": [
    "### 2.1 Series indexing  \n",
    "Series indexing (obj[...]) works analogously to NumPy array indexing, except you can use the Series’s index values instead of only integers"
   ]
  },
  {
   "cell_type": "code",
   "execution_count": 53,
   "metadata": {},
   "outputs": [
    {
     "name": "stdout",
     "output_type": "stream",
     "text": [
      "a    0.0\n",
      "b    1.0\n",
      "c    2.0\n",
      "d    3.0\n",
      "dtype: float64\n",
      "select the value by index\n",
      "1.0\n",
      "select the value by position\n",
      "1.0\n",
      "select range of values by position\n",
      "c    2.0\n",
      "d    3.0\n",
      "dtype: float64\n",
      "select range of values by index\n",
      "b    1.0\n",
      "a    0.0\n",
      "d    3.0\n",
      "dtype: float64\n",
      "select two values by position\n",
      "b    1.0\n",
      "d    3.0\n",
      "dtype: float64\n",
      "select values by condition\n",
      "a    0.0\n",
      "b    1.0\n",
      "dtype: float64\n"
     ]
    }
   ],
   "source": [
    "obj = pd.Series(np.arange(4.), index=['a', 'b', 'c', 'd'])\n",
    "print (obj)\n",
    "print('select the value by index')\n",
    "print (obj['b']) # select the values by index\n",
    "print('select the value by position') \n",
    "print (obj[1]) # select the values by position\n",
    "print('select range of values by position')\n",
    "print (obj[2:4]) # select range of values by position\n",
    "print('select range of values by index')\n",
    "print (obj[['b', 'a', 'd']]) # select range of values by index\n",
    "print('select two values by position')\n",
    "print (obj[[1, 3]]) \n",
    "print('select values by condition')\n",
    "print (obj[obj < 2])"
   ]
  },
  {
   "cell_type": "markdown",
   "metadata": {},
   "source": [
    "Slicing with labels behaves differently than normal Python slicing in that the endpoint is inclusive"
   ]
  },
  {
   "cell_type": "code",
   "execution_count": 54,
   "metadata": {},
   "outputs": [
    {
     "data": {
      "text/plain": [
       "b    1.0\n",
       "c    2.0\n",
       "dtype: float64"
      ]
     },
     "execution_count": 54,
     "metadata": {},
     "output_type": "execute_result"
    }
   ],
   "source": [
    "obj['b':'c']"
   ]
  },
  {
   "cell_type": "code",
   "execution_count": 55,
   "metadata": {},
   "outputs": [
    {
     "data": {
      "text/plain": [
       "a    0.0\n",
       "b    5.0\n",
       "c    5.0\n",
       "d    3.0\n",
       "dtype: float64"
      ]
     },
     "execution_count": 55,
     "metadata": {},
     "output_type": "execute_result"
    }
   ],
   "source": [
    "obj['b':'c'] = 5\n",
    "obj"
   ]
  },
  {
   "cell_type": "markdown",
   "metadata": {},
   "source": [
    "### 2.2 DataFrame indexing"
   ]
  },
  {
   "cell_type": "code",
   "execution_count": 56,
   "metadata": {},
   "outputs": [
    {
     "data": {
      "text/html": [
       "<div>\n",
       "<style scoped>\n",
       "    .dataframe tbody tr th:only-of-type {\n",
       "        vertical-align: middle;\n",
       "    }\n",
       "\n",
       "    .dataframe tbody tr th {\n",
       "        vertical-align: top;\n",
       "    }\n",
       "\n",
       "    .dataframe thead th {\n",
       "        text-align: right;\n",
       "    }\n",
       "</style>\n",
       "<table border=\"1\" class=\"dataframe\">\n",
       "  <thead>\n",
       "    <tr style=\"text-align: right;\">\n",
       "      <th></th>\n",
       "      <th>exam1</th>\n",
       "      <th>exam2</th>\n",
       "      <th>exam3</th>\n",
       "      <th>exam4</th>\n",
       "    </tr>\n",
       "  </thead>\n",
       "  <tbody>\n",
       "    <tr>\n",
       "      <th>pippo</th>\n",
       "      <td>28</td>\n",
       "      <td>25</td>\n",
       "      <td>27</td>\n",
       "      <td>25</td>\n",
       "    </tr>\n",
       "    <tr>\n",
       "      <th>pluto</th>\n",
       "      <td>29</td>\n",
       "      <td>19</td>\n",
       "      <td>24</td>\n",
       "      <td>21</td>\n",
       "    </tr>\n",
       "    <tr>\n",
       "      <th>minni</th>\n",
       "      <td>29</td>\n",
       "      <td>24</td>\n",
       "      <td>25</td>\n",
       "      <td>19</td>\n",
       "    </tr>\n",
       "    <tr>\n",
       "      <th>topo</th>\n",
       "      <td>24</td>\n",
       "      <td>20</td>\n",
       "      <td>23</td>\n",
       "      <td>28</td>\n",
       "    </tr>\n",
       "  </tbody>\n",
       "</table>\n",
       "</div>"
      ],
      "text/plain": [
       "       exam1  exam2  exam3  exam4\n",
       "pippo     28     25     27     25\n",
       "pluto     29     19     24     21\n",
       "minni     29     24     25     19\n",
       "topo      24     20     23     28"
      ]
     },
     "execution_count": 56,
     "metadata": {},
     "output_type": "execute_result"
    }
   ],
   "source": [
    "data = pd.DataFrame(np.random.randint(18,30,16).reshape((4, 4)),\n",
    "                    index=['pippo', 'pluto', 'minni', 'topo'],\n",
    "                    columns=['exam1', 'exam2', 'exam3', 'exam4'])\n",
    "data"
   ]
  },
  {
   "cell_type": "code",
   "execution_count": 57,
   "metadata": {},
   "outputs": [
    {
     "data": {
      "text/plain": [
       "pippo    28\n",
       "pluto    29\n",
       "minni    29\n",
       "topo     24\n",
       "Name: exam1, dtype: int32"
      ]
     },
     "execution_count": 57,
     "metadata": {},
     "output_type": "execute_result"
    }
   ],
   "source": [
    "data['exam1'] # access the value of a column"
   ]
  },
  {
   "cell_type": "code",
   "execution_count": 58,
   "metadata": {},
   "outputs": [
    {
     "data": {
      "text/html": [
       "<div>\n",
       "<style scoped>\n",
       "    .dataframe tbody tr th:only-of-type {\n",
       "        vertical-align: middle;\n",
       "    }\n",
       "\n",
       "    .dataframe tbody tr th {\n",
       "        vertical-align: top;\n",
       "    }\n",
       "\n",
       "    .dataframe thead th {\n",
       "        text-align: right;\n",
       "    }\n",
       "</style>\n",
       "<table border=\"1\" class=\"dataframe\">\n",
       "  <thead>\n",
       "    <tr style=\"text-align: right;\">\n",
       "      <th></th>\n",
       "      <th>exam1</th>\n",
       "      <th>exam4</th>\n",
       "    </tr>\n",
       "  </thead>\n",
       "  <tbody>\n",
       "    <tr>\n",
       "      <th>pippo</th>\n",
       "      <td>28</td>\n",
       "      <td>25</td>\n",
       "    </tr>\n",
       "    <tr>\n",
       "      <th>pluto</th>\n",
       "      <td>29</td>\n",
       "      <td>21</td>\n",
       "    </tr>\n",
       "    <tr>\n",
       "      <th>minni</th>\n",
       "      <td>29</td>\n",
       "      <td>19</td>\n",
       "    </tr>\n",
       "    <tr>\n",
       "      <th>topo</th>\n",
       "      <td>24</td>\n",
       "      <td>28</td>\n",
       "    </tr>\n",
       "  </tbody>\n",
       "</table>\n",
       "</div>"
      ],
      "text/plain": [
       "       exam1  exam4\n",
       "pippo     28     25\n",
       "pluto     29     21\n",
       "minni     29     19\n",
       "topo      24     28"
      ]
     },
     "execution_count": 58,
     "metadata": {},
     "output_type": "execute_result"
    }
   ],
   "source": [
    "data[['exam1','exam4']] # access multiple columns"
   ]
  },
  {
   "cell_type": "code",
   "execution_count": 59,
   "metadata": {},
   "outputs": [
    {
     "data": {
      "text/html": [
       "<div>\n",
       "<style scoped>\n",
       "    .dataframe tbody tr th:only-of-type {\n",
       "        vertical-align: middle;\n",
       "    }\n",
       "\n",
       "    .dataframe tbody tr th {\n",
       "        vertical-align: top;\n",
       "    }\n",
       "\n",
       "    .dataframe thead th {\n",
       "        text-align: right;\n",
       "    }\n",
       "</style>\n",
       "<table border=\"1\" class=\"dataframe\">\n",
       "  <thead>\n",
       "    <tr style=\"text-align: right;\">\n",
       "      <th></th>\n",
       "      <th>exam1</th>\n",
       "      <th>exam2</th>\n",
       "      <th>exam3</th>\n",
       "      <th>exam4</th>\n",
       "    </tr>\n",
       "  </thead>\n",
       "  <tbody>\n",
       "    <tr>\n",
       "      <th>pippo</th>\n",
       "      <td>28</td>\n",
       "      <td>25</td>\n",
       "      <td>27</td>\n",
       "      <td>25</td>\n",
       "    </tr>\n",
       "    <tr>\n",
       "      <th>pluto</th>\n",
       "      <td>29</td>\n",
       "      <td>19</td>\n",
       "      <td>24</td>\n",
       "      <td>21</td>\n",
       "    </tr>\n",
       "  </tbody>\n",
       "</table>\n",
       "</div>"
      ],
      "text/plain": [
       "       exam1  exam2  exam3  exam4\n",
       "pippo     28     25     27     25\n",
       "pluto     29     19     24     21"
      ]
     },
     "execution_count": 59,
     "metadata": {},
     "output_type": "execute_result"
    }
   ],
   "source": [
    "data[:2] # access rows"
   ]
  },
  {
   "cell_type": "code",
   "execution_count": 60,
   "metadata": {},
   "outputs": [
    {
     "data": {
      "text/html": [
       "<div>\n",
       "<style scoped>\n",
       "    .dataframe tbody tr th:only-of-type {\n",
       "        vertical-align: middle;\n",
       "    }\n",
       "\n",
       "    .dataframe tbody tr th {\n",
       "        vertical-align: top;\n",
       "    }\n",
       "\n",
       "    .dataframe thead th {\n",
       "        text-align: right;\n",
       "    }\n",
       "</style>\n",
       "<table border=\"1\" class=\"dataframe\">\n",
       "  <thead>\n",
       "    <tr style=\"text-align: right;\">\n",
       "      <th></th>\n",
       "      <th>exam1</th>\n",
       "      <th>exam2</th>\n",
       "      <th>exam3</th>\n",
       "      <th>exam4</th>\n",
       "    </tr>\n",
       "  </thead>\n",
       "  <tbody>\n",
       "    <tr>\n",
       "      <th>pippo</th>\n",
       "      <td>True</td>\n",
       "      <td>False</td>\n",
       "      <td>True</td>\n",
       "      <td>False</td>\n",
       "    </tr>\n",
       "    <tr>\n",
       "      <th>pluto</th>\n",
       "      <td>True</td>\n",
       "      <td>False</td>\n",
       "      <td>False</td>\n",
       "      <td>False</td>\n",
       "    </tr>\n",
       "    <tr>\n",
       "      <th>minni</th>\n",
       "      <td>True</td>\n",
       "      <td>False</td>\n",
       "      <td>False</td>\n",
       "      <td>False</td>\n",
       "    </tr>\n",
       "    <tr>\n",
       "      <th>topo</th>\n",
       "      <td>False</td>\n",
       "      <td>False</td>\n",
       "      <td>False</td>\n",
       "      <td>True</td>\n",
       "    </tr>\n",
       "  </tbody>\n",
       "</table>\n",
       "</div>"
      ],
      "text/plain": [
       "       exam1  exam2  exam3  exam4\n",
       "pippo   True  False   True  False\n",
       "pluto   True  False  False  False\n",
       "minni   True  False  False  False\n",
       "topo   False  False  False   True"
      ]
     },
     "execution_count": 60,
     "metadata": {},
     "output_type": "execute_result"
    }
   ],
   "source": [
    "data > 25 # dreate boolean masks"
   ]
  },
  {
   "cell_type": "code",
   "execution_count": 61,
   "metadata": {},
   "outputs": [
    {
     "data": {
      "text/html": [
       "<div>\n",
       "<style scoped>\n",
       "    .dataframe tbody tr th:only-of-type {\n",
       "        vertical-align: middle;\n",
       "    }\n",
       "\n",
       "    .dataframe tbody tr th {\n",
       "        vertical-align: top;\n",
       "    }\n",
       "\n",
       "    .dataframe thead th {\n",
       "        text-align: right;\n",
       "    }\n",
       "</style>\n",
       "<table border=\"1\" class=\"dataframe\">\n",
       "  <thead>\n",
       "    <tr style=\"text-align: right;\">\n",
       "      <th></th>\n",
       "      <th>exam1</th>\n",
       "      <th>exam2</th>\n",
       "      <th>exam3</th>\n",
       "      <th>exam4</th>\n",
       "    </tr>\n",
       "  </thead>\n",
       "  <tbody>\n",
       "    <tr>\n",
       "      <th>pippo</th>\n",
       "      <td>28</td>\n",
       "      <td>25</td>\n",
       "      <td>27</td>\n",
       "      <td>25</td>\n",
       "    </tr>\n",
       "    <tr>\n",
       "      <th>pluto</th>\n",
       "      <td>29</td>\n",
       "      <td>fail</td>\n",
       "      <td>24</td>\n",
       "      <td>21</td>\n",
       "    </tr>\n",
       "    <tr>\n",
       "      <th>minni</th>\n",
       "      <td>29</td>\n",
       "      <td>24</td>\n",
       "      <td>25</td>\n",
       "      <td>fail</td>\n",
       "    </tr>\n",
       "    <tr>\n",
       "      <th>topo</th>\n",
       "      <td>24</td>\n",
       "      <td>20</td>\n",
       "      <td>23</td>\n",
       "      <td>28</td>\n",
       "    </tr>\n",
       "  </tbody>\n",
       "</table>\n",
       "</div>"
      ],
      "text/plain": [
       "       exam1 exam2  exam3 exam4\n",
       "pippo     28    25     27    25\n",
       "pluto     29  fail     24    21\n",
       "minni     29    24     25  fail\n",
       "topo      24    20     23    28"
      ]
     },
     "execution_count": 61,
     "metadata": {},
     "output_type": "execute_result"
    }
   ],
   "source": [
    "data[data < 20] = 'fail' # assign values by boolean indexing\n",
    "data"
   ]
  },
  {
   "cell_type": "markdown",
   "metadata": {},
   "source": [
    "#### 2.3 Selection with loc and iloc"
   ]
  },
  {
   "cell_type": "markdown",
   "metadata": {},
   "source": [
    "To perform label indexing along the rows of a DataFrame there are the special indexing operators **loc and iloc**. They enable the selection of a subset of rows and columns for a DataFrame using the Numpy-like notation using:  \n",
    "- loc for axis label\n",
    "- iloc for integer "
   ]
  },
  {
   "cell_type": "code",
   "execution_count": 62,
   "metadata": {},
   "outputs": [
    {
     "data": {
      "text/html": [
       "<div>\n",
       "<style scoped>\n",
       "    .dataframe tbody tr th:only-of-type {\n",
       "        vertical-align: middle;\n",
       "    }\n",
       "\n",
       "    .dataframe tbody tr th {\n",
       "        vertical-align: top;\n",
       "    }\n",
       "\n",
       "    .dataframe thead th {\n",
       "        text-align: right;\n",
       "    }\n",
       "</style>\n",
       "<table border=\"1\" class=\"dataframe\">\n",
       "  <thead>\n",
       "    <tr style=\"text-align: right;\">\n",
       "      <th></th>\n",
       "      <th>exam1</th>\n",
       "      <th>exam2</th>\n",
       "      <th>exam3</th>\n",
       "      <th>exam4</th>\n",
       "    </tr>\n",
       "  </thead>\n",
       "  <tbody>\n",
       "    <tr>\n",
       "      <th>pippo</th>\n",
       "      <td>28</td>\n",
       "      <td>25</td>\n",
       "      <td>27</td>\n",
       "      <td>25</td>\n",
       "    </tr>\n",
       "    <tr>\n",
       "      <th>pluto</th>\n",
       "      <td>29</td>\n",
       "      <td>fail</td>\n",
       "      <td>24</td>\n",
       "      <td>21</td>\n",
       "    </tr>\n",
       "    <tr>\n",
       "      <th>minni</th>\n",
       "      <td>29</td>\n",
       "      <td>24</td>\n",
       "      <td>25</td>\n",
       "      <td>fail</td>\n",
       "    </tr>\n",
       "    <tr>\n",
       "      <th>topo</th>\n",
       "      <td>24</td>\n",
       "      <td>20</td>\n",
       "      <td>23</td>\n",
       "      <td>28</td>\n",
       "    </tr>\n",
       "  </tbody>\n",
       "</table>\n",
       "</div>"
      ],
      "text/plain": [
       "       exam1 exam2  exam3 exam4\n",
       "pippo     28    25     27    25\n",
       "pluto     29  fail     24    21\n",
       "minni     29    24     25  fail\n",
       "topo      24    20     23    28"
      ]
     },
     "execution_count": 62,
     "metadata": {},
     "output_type": "execute_result"
    }
   ],
   "source": [
    "data"
   ]
  },
  {
   "cell_type": "code",
   "execution_count": 65,
   "metadata": {},
   "outputs": [
    {
     "data": {
      "text/plain": [
       "exam1    28\n",
       "exam3    27\n",
       "Name: pippo, dtype: object"
      ]
     },
     "execution_count": 65,
     "metadata": {},
     "output_type": "execute_result"
    }
   ],
   "source": [
    "data.loc['pippo',['exam1','exam3']]"
   ]
  },
  {
   "cell_type": "code",
   "execution_count": 66,
   "metadata": {},
   "outputs": [
    {
     "data": {
      "text/plain": [
       "exam1    28\n",
       "exam2    25\n",
       "exam3    27\n",
       "Name: pippo, dtype: object"
      ]
     },
     "execution_count": 66,
     "metadata": {},
     "output_type": "execute_result"
    }
   ],
   "source": [
    "data.loc['pippo','exam1':'exam3']"
   ]
  },
  {
   "cell_type": "code",
   "execution_count": 69,
   "metadata": {},
   "outputs": [
    {
     "data": {
      "text/html": [
       "<div>\n",
       "<style scoped>\n",
       "    .dataframe tbody tr th:only-of-type {\n",
       "        vertical-align: middle;\n",
       "    }\n",
       "\n",
       "    .dataframe tbody tr th {\n",
       "        vertical-align: top;\n",
       "    }\n",
       "\n",
       "    .dataframe thead th {\n",
       "        text-align: right;\n",
       "    }\n",
       "</style>\n",
       "<table border=\"1\" class=\"dataframe\">\n",
       "  <thead>\n",
       "    <tr style=\"text-align: right;\">\n",
       "      <th></th>\n",
       "      <th>exam1</th>\n",
       "      <th>exam4</th>\n",
       "    </tr>\n",
       "  </thead>\n",
       "  <tbody>\n",
       "    <tr>\n",
       "      <th>pippo</th>\n",
       "      <td>28</td>\n",
       "      <td>25</td>\n",
       "    </tr>\n",
       "    <tr>\n",
       "      <th>topo</th>\n",
       "      <td>24</td>\n",
       "      <td>28</td>\n",
       "    </tr>\n",
       "  </tbody>\n",
       "</table>\n",
       "</div>"
      ],
      "text/plain": [
       "       exam1 exam4\n",
       "pippo     28    25\n",
       "topo      24    28"
      ]
     },
     "execution_count": 69,
     "metadata": {},
     "output_type": "execute_result"
    }
   ],
   "source": [
    "data.loc[['pippo','topo'],['exam1','exam4']]"
   ]
  },
  {
   "cell_type": "code",
   "execution_count": 70,
   "metadata": {},
   "outputs": [
    {
     "data": {
      "text/plain": [
       "exam3      25\n",
       "exam4    fail\n",
       "Name: minni, dtype: object"
      ]
     },
     "execution_count": 70,
     "metadata": {},
     "output_type": "execute_result"
    }
   ],
   "source": [
    "data.iloc[2,2:4]"
   ]
  },
  {
   "cell_type": "markdown",
   "metadata": {},
   "source": [
    "# 3. Reading and writing data"
   ]
  },
  {
   "cell_type": "markdown",
   "metadata": {},
   "source": [
    "Pandas has a vast number of function to read and write data. We will see only a couple of them that most useful fo us.  \n",
    "- [`read_csv`](https://pandas.pydata.org/pandas-docs/stable/reference/api/pandas.read_csv.html) Load delimited data from a ile, URL, or ile-like object; use comma as default delimiter\n",
    "- `read_excel` Read tabular data from an Excel XLS or XLSX ile\n",
    "- [`read_table`](https://pandas.pydata.org/pandas-docs/stable/reference/api/pandas.read_table.html) Load delimited data from a ile, URL, or ile-like object; use tab ('\\t') as default delimiter  \n",
    "\n",
    "Some of these functions, like pandas.read_csv, perform **type inference**, because the column data types are not part of the data format. That means you don’t necessarily have to specify which columns are numeric, integer, boolean, or string."
   ]
  },
  {
   "cell_type": "markdown",
   "metadata": {},
   "source": [
    "These functions share in common some useful arguments to convert text data into DataFrames:  \n",
    "\n",
    "| argument | Description |  \n",
    "|---- | ---- |  \n",
    "| Indexing | Can treat one or more columns as the returned DataFrame, and whether to get column names from the file, the user, or not at all. |  \n",
    "| DateTime parsing | Includes combining capability, including combining date and time information spread over multiple columns into a single column in the result. |  \n",
    "| Unclean data issues | Skipping rows or a footer, comments, or other minor things like numeric data with thousands separated by commas. |  \n"
   ]
  },
  {
   "cell_type": "code",
   "execution_count": 71,
   "metadata": {},
   "outputs": [
    {
     "data": {
      "text/html": [
       "<div>\n",
       "<style scoped>\n",
       "    .dataframe tbody tr th:only-of-type {\n",
       "        vertical-align: middle;\n",
       "    }\n",
       "\n",
       "    .dataframe tbody tr th {\n",
       "        vertical-align: top;\n",
       "    }\n",
       "\n",
       "    .dataframe thead th {\n",
       "        text-align: right;\n",
       "    }\n",
       "</style>\n",
       "<table border=\"1\" class=\"dataframe\">\n",
       "  <thead>\n",
       "    <tr style=\"text-align: right;\">\n",
       "      <th></th>\n",
       "      <th>fault</th>\n",
       "      <th>mu_25C</th>\n",
       "      <th>mu_50C</th>\n",
       "      <th>mu_100C</th>\n",
       "    </tr>\n",
       "  </thead>\n",
       "  <tbody>\n",
       "    <tr>\n",
       "      <th>0</th>\n",
       "      <td>fault1</td>\n",
       "      <td>0.6</td>\n",
       "      <td>0.4</td>\n",
       "      <td>0.1</td>\n",
       "    </tr>\n",
       "    <tr>\n",
       "      <th>1</th>\n",
       "      <td>fault2</td>\n",
       "      <td>0.4</td>\n",
       "      <td>0.4</td>\n",
       "      <td>0.3</td>\n",
       "    </tr>\n",
       "    <tr>\n",
       "      <th>2</th>\n",
       "      <td>fault3</td>\n",
       "      <td>0.8</td>\n",
       "      <td>0.5</td>\n",
       "      <td>0.1</td>\n",
       "    </tr>\n",
       "  </tbody>\n",
       "</table>\n",
       "</div>"
      ],
      "text/plain": [
       "    fault  mu_25C  mu_50C  mu_100C\n",
       "0  fault1     0.6     0.4      0.1\n",
       "1  fault2     0.4     0.4      0.3\n",
       "2  fault3     0.8     0.5      0.1"
      ]
     },
     "execution_count": 71,
     "metadata": {},
     "output_type": "execute_result"
    }
   ],
   "source": [
    "data = pd.read_csv('./L06/friction_data.txt')\n",
    "data"
   ]
  },
  {
   "cell_type": "code",
   "execution_count": 72,
   "metadata": {},
   "outputs": [
    {
     "data": {
      "text/html": [
       "<div>\n",
       "<style scoped>\n",
       "    .dataframe tbody tr th:only-of-type {\n",
       "        vertical-align: middle;\n",
       "    }\n",
       "\n",
       "    .dataframe tbody tr th {\n",
       "        vertical-align: top;\n",
       "    }\n",
       "\n",
       "    .dataframe thead th {\n",
       "        text-align: right;\n",
       "    }\n",
       "</style>\n",
       "<table border=\"1\" class=\"dataframe\">\n",
       "  <thead>\n",
       "    <tr style=\"text-align: right;\">\n",
       "      <th></th>\n",
       "      <th>fault</th>\n",
       "      <th>mu_25C</th>\n",
       "      <th>mu_50C</th>\n",
       "      <th>mu_100C</th>\n",
       "    </tr>\n",
       "  </thead>\n",
       "  <tbody>\n",
       "    <tr>\n",
       "      <th>0</th>\n",
       "      <td>fault1</td>\n",
       "      <td>0.6</td>\n",
       "      <td>0.4</td>\n",
       "      <td>0.1</td>\n",
       "    </tr>\n",
       "    <tr>\n",
       "      <th>1</th>\n",
       "      <td>fault2</td>\n",
       "      <td>0.4</td>\n",
       "      <td>0.4</td>\n",
       "      <td>0.3</td>\n",
       "    </tr>\n",
       "    <tr>\n",
       "      <th>2</th>\n",
       "      <td>fault3</td>\n",
       "      <td>0.8</td>\n",
       "      <td>0.5</td>\n",
       "      <td>0.1</td>\n",
       "    </tr>\n",
       "  </tbody>\n",
       "</table>\n",
       "</div>"
      ],
      "text/plain": [
       "    fault  mu_25C  mu_50C  mu_100C\n",
       "0  fault1     0.6     0.4      0.1\n",
       "1  fault2     0.4     0.4      0.3\n",
       "2  fault3     0.8     0.5      0.1"
      ]
     },
     "execution_count": 72,
     "metadata": {},
     "output_type": "execute_result"
    }
   ],
   "source": [
    "data = pd.read_table('./L06/friction_data.txt',delimiter=',')\n",
    "data"
   ]
  },
  {
   "cell_type": "code",
   "execution_count": 73,
   "metadata": {},
   "outputs": [
    {
     "data": {
      "text/html": [
       "<div>\n",
       "<style scoped>\n",
       "    .dataframe tbody tr th:only-of-type {\n",
       "        vertical-align: middle;\n",
       "    }\n",
       "\n",
       "    .dataframe tbody tr th {\n",
       "        vertical-align: top;\n",
       "    }\n",
       "\n",
       "    .dataframe thead th {\n",
       "        text-align: right;\n",
       "    }\n",
       "</style>\n",
       "<table border=\"1\" class=\"dataframe\">\n",
       "  <thead>\n",
       "    <tr style=\"text-align: right;\">\n",
       "      <th></th>\n",
       "      <th>mu_25C</th>\n",
       "      <th>mu_50C</th>\n",
       "      <th>mu_100C</th>\n",
       "    </tr>\n",
       "    <tr>\n",
       "      <th>fault</th>\n",
       "      <th></th>\n",
       "      <th></th>\n",
       "      <th></th>\n",
       "    </tr>\n",
       "  </thead>\n",
       "  <tbody>\n",
       "    <tr>\n",
       "      <th>fault1</th>\n",
       "      <td>0.6</td>\n",
       "      <td>0.4</td>\n",
       "      <td>0.1</td>\n",
       "    </tr>\n",
       "    <tr>\n",
       "      <th>fault2</th>\n",
       "      <td>0.4</td>\n",
       "      <td>0.4</td>\n",
       "      <td>0.3</td>\n",
       "    </tr>\n",
       "    <tr>\n",
       "      <th>fault3</th>\n",
       "      <td>0.8</td>\n",
       "      <td>0.5</td>\n",
       "      <td>0.1</td>\n",
       "    </tr>\n",
       "  </tbody>\n",
       "</table>\n",
       "</div>"
      ],
      "text/plain": [
       "        mu_25C  mu_50C  mu_100C\n",
       "fault                          \n",
       "fault1     0.6     0.4      0.1\n",
       "fault2     0.4     0.4      0.3\n",
       "fault3     0.8     0.5      0.1"
      ]
     },
     "execution_count": 73,
     "metadata": {},
     "output_type": "execute_result"
    }
   ],
   "source": [
    "data = pd.read_csv('./L06/friction_data.txt',index_col='fault')\n",
    "data"
   ]
  },
  {
   "cell_type": "code",
   "execution_count": 75,
   "metadata": {},
   "outputs": [
    {
     "data": {
      "image/png": "[encoded data removed]",
      "text/plain": [
       "<Figure size 432x288 with 2 Axes>"
      ]
     },
     "metadata": {
      "needs_background": "light"
     },
     "output_type": "display_data"
    }
   ],
   "source": [
    "import matplotlib.pyplot as plt\n",
    "# plot the data as a function of fault type and color code by temperature \n",
    "x = np.ones(len(data.iloc[0]))\n",
    "temp = [25,50,100]\n",
    "f, ax = plt.subplots(1,1)\n",
    "cm = plt.get_cmap('plasma')\n",
    "sc=ax.scatter(x,data.loc['fault1'],c=temp,cmap=cm,vmin=25,vmax=100)\n",
    "sc=ax.scatter(x*2,data.loc['fault2'],c=temp,cmap=cm,vmin=25,vmax=100)\n",
    "sc=ax.scatter(x*3,data.loc['fault3'],c=temp,cmap=cm,vmin=25,vmax=100)\n",
    "plt.colorbar(sc)\n",
    "sc.set_label('Temperature')"
   ]
  },
  {
   "cell_type": "code",
   "execution_count": 76,
   "metadata": {},
   "outputs": [
    {
     "data": {
      "text/plain": [
       "array([1., 1., 1.])"
      ]
     },
     "execution_count": 76,
     "metadata": {},
     "output_type": "execute_result"
    }
   ],
   "source": [
    "x"
   ]
  },
  {
   "cell_type": "markdown",
   "metadata": {},
   "source": [
    "#### Let's complicate things now  \n",
    "We will import a data file from the Acuto natural laboratory.   \n",
    "This file contains data from different sensors for the month of february 2017."
   ]
  },
  {
   "cell_type": "code",
   "execution_count": 77,
   "metadata": {},
   "outputs": [
    {
     "data": {
      "text/html": [
       "<div>\n",
       "<style scoped>\n",
       "    .dataframe tbody tr th:only-of-type {\n",
       "        vertical-align: middle;\n",
       "    }\n",
       "\n",
       "    .dataframe tbody tr th {\n",
       "        vertical-align: top;\n",
       "    }\n",
       "\n",
       "    .dataframe thead tr th {\n",
       "        text-align: left;\n",
       "    }\n",
       "</style>\n",
       "<table border=\"1\" class=\"dataframe\">\n",
       "  <thead>\n",
       "    <tr>\n",
       "      <th></th>\n",
       "      <th>Timestamp</th>\n",
       "      <th>WS_Max</th>\n",
       "      <th>WD_Prev</th>\n",
       "      <th>SG01</th>\n",
       "      <th>SG02</th>\n",
       "      <th>SG03</th>\n",
       "      <th>SG05</th>\n",
       "      <th>F01</th>\n",
       "      <th>F02</th>\n",
       "      <th>Troccia</th>\n",
       "      <th>Tamb</th>\n",
       "      <th>UR</th>\n",
       "      <th>RG</th>\n",
       "    </tr>\n",
       "    <tr>\n",
       "      <th></th>\n",
       "      <th>Unnamed: 0_level_1</th>\n",
       "      <th>m/s</th>\n",
       "      <th>gradi</th>\n",
       "      <th>ustrain</th>\n",
       "      <th>ustrain</th>\n",
       "      <th>ustrain</th>\n",
       "      <th>ustrain</th>\n",
       "      <th>mm</th>\n",
       "      <th>mm</th>\n",
       "      <th>°C</th>\n",
       "      <th>°C</th>\n",
       "      <th>%</th>\n",
       "      <th>mm</th>\n",
       "    </tr>\n",
       "  </thead>\n",
       "  <tbody>\n",
       "    <tr>\n",
       "      <th>0</th>\n",
       "      <td>01/02/2017 00:00:00</td>\n",
       "      <td>2.548</td>\n",
       "      <td>82.60</td>\n",
       "      <td>-5573</td>\n",
       "      <td>-5393</td>\n",
       "      <td>-5455</td>\n",
       "      <td>-5419</td>\n",
       "      <td>3.31</td>\n",
       "      <td>6.97</td>\n",
       "      <td>7.604</td>\n",
       "      <td>5.938</td>\n",
       "      <td>92.4</td>\n",
       "      <td>0.0</td>\n",
       "    </tr>\n",
       "    <tr>\n",
       "      <th>1</th>\n",
       "      <td>01/02/2017 00:01:00</td>\n",
       "      <td>2.883</td>\n",
       "      <td>199.40</td>\n",
       "      <td>-5572</td>\n",
       "      <td>-5390</td>\n",
       "      <td>-5455</td>\n",
       "      <td>-5419</td>\n",
       "      <td>3.31</td>\n",
       "      <td>6.98</td>\n",
       "      <td>7.604</td>\n",
       "      <td>5.870</td>\n",
       "      <td>92.5</td>\n",
       "      <td>0.0</td>\n",
       "    </tr>\n",
       "    <tr>\n",
       "      <th>2</th>\n",
       "      <td>01/02/2017 00:02:00</td>\n",
       "      <td>3.168</td>\n",
       "      <td>77.67</td>\n",
       "      <td>-5573</td>\n",
       "      <td>-5390</td>\n",
       "      <td>-5455</td>\n",
       "      <td>-5419</td>\n",
       "      <td>3.31</td>\n",
       "      <td>6.97</td>\n",
       "      <td>7.605</td>\n",
       "      <td>5.837</td>\n",
       "      <td>92.8</td>\n",
       "      <td>0.0</td>\n",
       "    </tr>\n",
       "    <tr>\n",
       "      <th>3</th>\n",
       "      <td>01/02/2017 00:03:00</td>\n",
       "      <td>3.336</td>\n",
       "      <td>68.24</td>\n",
       "      <td>-5572</td>\n",
       "      <td>-5390</td>\n",
       "      <td>-5455</td>\n",
       "      <td>-5418</td>\n",
       "      <td>3.31</td>\n",
       "      <td>6.98</td>\n",
       "      <td>7.605</td>\n",
       "      <td>5.871</td>\n",
       "      <td>93.1</td>\n",
       "      <td>0.0</td>\n",
       "    </tr>\n",
       "    <tr>\n",
       "      <th>4</th>\n",
       "      <td>01/02/2017 00:04:00</td>\n",
       "      <td>3.319</td>\n",
       "      <td>73.17</td>\n",
       "      <td>-5572</td>\n",
       "      <td>-5390</td>\n",
       "      <td>-5456</td>\n",
       "      <td>-5419</td>\n",
       "      <td>3.31</td>\n",
       "      <td>6.97</td>\n",
       "      <td>7.606</td>\n",
       "      <td>5.906</td>\n",
       "      <td>93.2</td>\n",
       "      <td>0.0</td>\n",
       "    </tr>\n",
       "  </tbody>\n",
       "</table>\n",
       "</div>"
      ],
      "text/plain": [
       "             Timestamp WS_Max WD_Prev    SG01    SG02    SG03    SG05   F01  \\\n",
       "    Unnamed: 0_level_1    m/s   gradi ustrain ustrain ustrain ustrain    mm   \n",
       "0  01/02/2017 00:00:00  2.548   82.60   -5573   -5393   -5455   -5419  3.31   \n",
       "1  01/02/2017 00:01:00  2.883  199.40   -5572   -5390   -5455   -5419  3.31   \n",
       "2  01/02/2017 00:02:00  3.168   77.67   -5573   -5390   -5455   -5419  3.31   \n",
       "3  01/02/2017 00:03:00  3.336   68.24   -5572   -5390   -5455   -5418  3.31   \n",
       "4  01/02/2017 00:04:00  3.319   73.17   -5572   -5390   -5456   -5419  3.31   \n",
       "\n",
       "    F02 Troccia   Tamb    UR   RG  \n",
       "     mm      °C     °C     %   mm  \n",
       "0  6.97   7.604  5.938  92.4  0.0  \n",
       "1  6.98   7.604  5.870  92.5  0.0  \n",
       "2  6.97   7.605  5.837  92.8  0.0  \n",
       "3  6.98   7.605  5.871  93.1  0.0  \n",
       "4  6.97   7.606  5.906  93.2  0.0  "
      ]
     },
     "execution_count": 77,
     "metadata": {},
     "output_type": "execute_result"
    }
   ],
   "source": [
    "data = pd.read_csv('./L06/Dati_Olinda_Febbraio_2017.csv',header=[0,1])\n",
    "data.head()"
   ]
  },
  {
   "cell_type": "code",
   "execution_count": 78,
   "metadata": {},
   "outputs": [
    {
     "data": {
      "text/html": [
       "<div>\n",
       "<style scoped>\n",
       "    .dataframe tbody tr th:only-of-type {\n",
       "        vertical-align: middle;\n",
       "    }\n",
       "\n",
       "    .dataframe tbody tr th {\n",
       "        vertical-align: top;\n",
       "    }\n",
       "\n",
       "    .dataframe thead th {\n",
       "        text-align: right;\n",
       "    }\n",
       "</style>\n",
       "<table border=\"1\" class=\"dataframe\">\n",
       "  <thead>\n",
       "    <tr style=\"text-align: right;\">\n",
       "      <th></th>\n",
       "      <th>Timestamp</th>\n",
       "      <th>WS_Max</th>\n",
       "      <th>WD_Prev</th>\n",
       "      <th>SG01</th>\n",
       "      <th>SG02</th>\n",
       "      <th>SG03</th>\n",
       "      <th>SG05</th>\n",
       "      <th>F01</th>\n",
       "      <th>F02</th>\n",
       "      <th>Troccia</th>\n",
       "      <th>Tamb</th>\n",
       "      <th>UR</th>\n",
       "      <th>RG</th>\n",
       "    </tr>\n",
       "  </thead>\n",
       "  <tbody>\n",
       "    <tr>\n",
       "      <th>0</th>\n",
       "      <td>01/02/2017 00:00:00</td>\n",
       "      <td>2.548</td>\n",
       "      <td>82.60</td>\n",
       "      <td>-5573</td>\n",
       "      <td>-5393</td>\n",
       "      <td>-5455</td>\n",
       "      <td>-5419</td>\n",
       "      <td>3.31</td>\n",
       "      <td>6.97</td>\n",
       "      <td>7.604</td>\n",
       "      <td>5.938</td>\n",
       "      <td>92.4</td>\n",
       "      <td>0.0</td>\n",
       "    </tr>\n",
       "    <tr>\n",
       "      <th>1</th>\n",
       "      <td>01/02/2017 00:01:00</td>\n",
       "      <td>2.883</td>\n",
       "      <td>199.40</td>\n",
       "      <td>-5572</td>\n",
       "      <td>-5390</td>\n",
       "      <td>-5455</td>\n",
       "      <td>-5419</td>\n",
       "      <td>3.31</td>\n",
       "      <td>6.98</td>\n",
       "      <td>7.604</td>\n",
       "      <td>5.870</td>\n",
       "      <td>92.5</td>\n",
       "      <td>0.0</td>\n",
       "    </tr>\n",
       "    <tr>\n",
       "      <th>2</th>\n",
       "      <td>01/02/2017 00:02:00</td>\n",
       "      <td>3.168</td>\n",
       "      <td>77.67</td>\n",
       "      <td>-5573</td>\n",
       "      <td>-5390</td>\n",
       "      <td>-5455</td>\n",
       "      <td>-5419</td>\n",
       "      <td>3.31</td>\n",
       "      <td>6.97</td>\n",
       "      <td>7.605</td>\n",
       "      <td>5.837</td>\n",
       "      <td>92.8</td>\n",
       "      <td>0.0</td>\n",
       "    </tr>\n",
       "    <tr>\n",
       "      <th>3</th>\n",
       "      <td>01/02/2017 00:03:00</td>\n",
       "      <td>3.336</td>\n",
       "      <td>68.24</td>\n",
       "      <td>-5572</td>\n",
       "      <td>-5390</td>\n",
       "      <td>-5455</td>\n",
       "      <td>-5418</td>\n",
       "      <td>3.31</td>\n",
       "      <td>6.98</td>\n",
       "      <td>7.605</td>\n",
       "      <td>5.871</td>\n",
       "      <td>93.1</td>\n",
       "      <td>0.0</td>\n",
       "    </tr>\n",
       "    <tr>\n",
       "      <th>4</th>\n",
       "      <td>01/02/2017 00:04:00</td>\n",
       "      <td>3.319</td>\n",
       "      <td>73.17</td>\n",
       "      <td>-5572</td>\n",
       "      <td>-5390</td>\n",
       "      <td>-5456</td>\n",
       "      <td>-5419</td>\n",
       "      <td>3.31</td>\n",
       "      <td>6.97</td>\n",
       "      <td>7.606</td>\n",
       "      <td>5.906</td>\n",
       "      <td>93.2</td>\n",
       "      <td>0.0</td>\n",
       "    </tr>\n",
       "  </tbody>\n",
       "</table>\n",
       "</div>"
      ],
      "text/plain": [
       "             Timestamp  WS_Max  WD_Prev  SG01  SG02  SG03  SG05   F01   F02  \\\n",
       "0  01/02/2017 00:00:00   2.548    82.60 -5573 -5393 -5455 -5419  3.31  6.97   \n",
       "1  01/02/2017 00:01:00   2.883   199.40 -5572 -5390 -5455 -5419  3.31  6.98   \n",
       "2  01/02/2017 00:02:00   3.168    77.67 -5573 -5390 -5455 -5419  3.31  6.97   \n",
       "3  01/02/2017 00:03:00   3.336    68.24 -5572 -5390 -5455 -5418  3.31  6.98   \n",
       "4  01/02/2017 00:04:00   3.319    73.17 -5572 -5390 -5456 -5419  3.31  6.97   \n",
       "\n",
       "   Troccia   Tamb    UR   RG  \n",
       "0    7.604  5.938  92.4  0.0  \n",
       "1    7.604  5.870  92.5  0.0  \n",
       "2    7.605  5.837  92.8  0.0  \n",
       "3    7.605  5.871  93.1  0.0  \n",
       "4    7.606  5.906  93.2  0.0  "
      ]
     },
     "execution_count": 78,
     "metadata": {},
     "output_type": "execute_result"
    }
   ],
   "source": [
    "df = pd.read_csv('./L06/Dati_Olinda_Febbraio_2017.csv', skiprows=[1])\n",
    "df.head()"
   ]
  },
  {
   "cell_type": "code",
   "execution_count": 79,
   "metadata": {},
   "outputs": [
    {
     "data": {
      "text/plain": [
       "0       -5573\n",
       "1       -5572\n",
       "2       -5573\n",
       "3       -5572\n",
       "4       -5572\n",
       "         ... \n",
       "40315   -5606\n",
       "40316   -5606\n",
       "40317   -5605\n",
       "40318   -5607\n",
       "40319   -5607\n",
       "Name: SG01, Length: 40320, dtype: int64"
      ]
     },
     "execution_count": 79,
     "metadata": {},
     "output_type": "execute_result"
    }
   ],
   "source": [
    "df.SG01"
   ]
  },
  {
   "cell_type": "code",
   "execution_count": 83,
   "metadata": {},
   "outputs": [
    {
     "data": {
      "text/plain": [
       "0        01/02/2017 00:00:00\n",
       "1        01/02/2017 00:01:00\n",
       "2        01/02/2017 00:02:00\n",
       "3        01/02/2017 00:03:00\n",
       "4        01/02/2017 00:04:00\n",
       "                ...         \n",
       "40315    28/02/2017 23:55:00\n",
       "40316    28/02/2017 23:56:00\n",
       "40317    28/02/2017 23:57:00\n",
       "40318    28/02/2017 23:58:00\n",
       "40319    28/02/2017 23:59:00\n",
       "Name: Timestamp, Length: 40320, dtype: object"
      ]
     },
     "execution_count": 83,
     "metadata": {},
     "output_type": "execute_result"
    }
   ],
   "source": [
    "df.Timestamp\n",
    "#plt.plot(df.Timestamp)"
   ]
  },
  {
   "cell_type": "markdown",
   "metadata": {},
   "source": [
    "As you can see the `Timestamp` column must be interpreted since it is a mix of numbers and different delimiter. "
   ]
  },
  {
   "cell_type": "code",
   "execution_count": 84,
   "metadata": {},
   "outputs": [
    {
     "data": {
      "text/html": [
       "<div>\n",
       "<style scoped>\n",
       "    .dataframe tbody tr th:only-of-type {\n",
       "        vertical-align: middle;\n",
       "    }\n",
       "\n",
       "    .dataframe tbody tr th {\n",
       "        vertical-align: top;\n",
       "    }\n",
       "\n",
       "    .dataframe thead th {\n",
       "        text-align: right;\n",
       "    }\n",
       "</style>\n",
       "<table border=\"1\" class=\"dataframe\">\n",
       "  <thead>\n",
       "    <tr style=\"text-align: right;\">\n",
       "      <th></th>\n",
       "      <th>Timestamp</th>\n",
       "      <th>WS_Max</th>\n",
       "      <th>WD_Prev</th>\n",
       "      <th>SG01</th>\n",
       "      <th>SG02</th>\n",
       "      <th>SG03</th>\n",
       "      <th>SG05</th>\n",
       "      <th>F01</th>\n",
       "      <th>F02</th>\n",
       "      <th>Troccia</th>\n",
       "      <th>Tamb</th>\n",
       "      <th>UR</th>\n",
       "      <th>RG</th>\n",
       "    </tr>\n",
       "  </thead>\n",
       "  <tbody>\n",
       "    <tr>\n",
       "      <th>0</th>\n",
       "      <td>2017-02-01 00:00:00</td>\n",
       "      <td>2.548</td>\n",
       "      <td>82.60</td>\n",
       "      <td>-5573</td>\n",
       "      <td>-5393</td>\n",
       "      <td>-5455</td>\n",
       "      <td>-5419</td>\n",
       "      <td>3.31</td>\n",
       "      <td>6.97</td>\n",
       "      <td>7.604</td>\n",
       "      <td>5.938</td>\n",
       "      <td>92.4</td>\n",
       "      <td>0.0</td>\n",
       "    </tr>\n",
       "    <tr>\n",
       "      <th>1</th>\n",
       "      <td>2017-02-01 00:01:00</td>\n",
       "      <td>2.883</td>\n",
       "      <td>199.40</td>\n",
       "      <td>-5572</td>\n",
       "      <td>-5390</td>\n",
       "      <td>-5455</td>\n",
       "      <td>-5419</td>\n",
       "      <td>3.31</td>\n",
       "      <td>6.98</td>\n",
       "      <td>7.604</td>\n",
       "      <td>5.870</td>\n",
       "      <td>92.5</td>\n",
       "      <td>0.0</td>\n",
       "    </tr>\n",
       "    <tr>\n",
       "      <th>2</th>\n",
       "      <td>2017-02-01 00:02:00</td>\n",
       "      <td>3.168</td>\n",
       "      <td>77.67</td>\n",
       "      <td>-5573</td>\n",
       "      <td>-5390</td>\n",
       "      <td>-5455</td>\n",
       "      <td>-5419</td>\n",
       "      <td>3.31</td>\n",
       "      <td>6.97</td>\n",
       "      <td>7.605</td>\n",
       "      <td>5.837</td>\n",
       "      <td>92.8</td>\n",
       "      <td>0.0</td>\n",
       "    </tr>\n",
       "    <tr>\n",
       "      <th>3</th>\n",
       "      <td>2017-02-01 00:03:00</td>\n",
       "      <td>3.336</td>\n",
       "      <td>68.24</td>\n",
       "      <td>-5572</td>\n",
       "      <td>-5390</td>\n",
       "      <td>-5455</td>\n",
       "      <td>-5418</td>\n",
       "      <td>3.31</td>\n",
       "      <td>6.98</td>\n",
       "      <td>7.605</td>\n",
       "      <td>5.871</td>\n",
       "      <td>93.1</td>\n",
       "      <td>0.0</td>\n",
       "    </tr>\n",
       "    <tr>\n",
       "      <th>4</th>\n",
       "      <td>2017-02-01 00:04:00</td>\n",
       "      <td>3.319</td>\n",
       "      <td>73.17</td>\n",
       "      <td>-5572</td>\n",
       "      <td>-5390</td>\n",
       "      <td>-5456</td>\n",
       "      <td>-5419</td>\n",
       "      <td>3.31</td>\n",
       "      <td>6.97</td>\n",
       "      <td>7.606</td>\n",
       "      <td>5.906</td>\n",
       "      <td>93.2</td>\n",
       "      <td>0.0</td>\n",
       "    </tr>\n",
       "    <tr>\n",
       "      <th>...</th>\n",
       "      <td>...</td>\n",
       "      <td>...</td>\n",
       "      <td>...</td>\n",
       "      <td>...</td>\n",
       "      <td>...</td>\n",
       "      <td>...</td>\n",
       "      <td>...</td>\n",
       "      <td>...</td>\n",
       "      <td>...</td>\n",
       "      <td>...</td>\n",
       "      <td>...</td>\n",
       "      <td>...</td>\n",
       "      <td>...</td>\n",
       "    </tr>\n",
       "    <tr>\n",
       "      <th>40315</th>\n",
       "      <td>2017-02-28 23:55:00</td>\n",
       "      <td>1.643</td>\n",
       "      <td>242.00</td>\n",
       "      <td>-5606</td>\n",
       "      <td>-5393</td>\n",
       "      <td>-5510</td>\n",
       "      <td>-5432</td>\n",
       "      <td>3.27</td>\n",
       "      <td>6.98</td>\n",
       "      <td>10.490</td>\n",
       "      <td>8.350</td>\n",
       "      <td>98.0</td>\n",
       "      <td>0.0</td>\n",
       "    </tr>\n",
       "    <tr>\n",
       "      <th>40316</th>\n",
       "      <td>2017-02-28 23:56:00</td>\n",
       "      <td>1.810</td>\n",
       "      <td>229.90</td>\n",
       "      <td>-5606</td>\n",
       "      <td>-5392</td>\n",
       "      <td>-5510</td>\n",
       "      <td>-5433</td>\n",
       "      <td>3.27</td>\n",
       "      <td>6.98</td>\n",
       "      <td>10.490</td>\n",
       "      <td>8.380</td>\n",
       "      <td>98.0</td>\n",
       "      <td>0.0</td>\n",
       "    </tr>\n",
       "    <tr>\n",
       "      <th>40317</th>\n",
       "      <td>2017-02-28 23:57:00</td>\n",
       "      <td>2.565</td>\n",
       "      <td>224.40</td>\n",
       "      <td>-5605</td>\n",
       "      <td>-5393</td>\n",
       "      <td>-5510</td>\n",
       "      <td>-5433</td>\n",
       "      <td>3.27</td>\n",
       "      <td>6.98</td>\n",
       "      <td>10.490</td>\n",
       "      <td>8.310</td>\n",
       "      <td>98.1</td>\n",
       "      <td>0.0</td>\n",
       "    </tr>\n",
       "    <tr>\n",
       "      <th>40318</th>\n",
       "      <td>2017-02-28 23:58:00</td>\n",
       "      <td>1.961</td>\n",
       "      <td>248.70</td>\n",
       "      <td>-5607</td>\n",
       "      <td>-5391</td>\n",
       "      <td>-5510</td>\n",
       "      <td>-5432</td>\n",
       "      <td>3.27</td>\n",
       "      <td>6.98</td>\n",
       "      <td>10.490</td>\n",
       "      <td>8.350</td>\n",
       "      <td>98.0</td>\n",
       "      <td>0.0</td>\n",
       "    </tr>\n",
       "    <tr>\n",
       "      <th>40319</th>\n",
       "      <td>2017-02-28 23:59:00</td>\n",
       "      <td>1.777</td>\n",
       "      <td>227.20</td>\n",
       "      <td>-5607</td>\n",
       "      <td>-5391</td>\n",
       "      <td>-5510</td>\n",
       "      <td>-5433</td>\n",
       "      <td>3.27</td>\n",
       "      <td>6.98</td>\n",
       "      <td>10.490</td>\n",
       "      <td>8.350</td>\n",
       "      <td>98.0</td>\n",
       "      <td>0.0</td>\n",
       "    </tr>\n",
       "  </tbody>\n",
       "</table>\n",
       "<p>40320 rows × 13 columns</p>\n",
       "</div>"
      ],
      "text/plain": [
       "                Timestamp  WS_Max  WD_Prev  SG01  SG02  SG03  SG05   F01  \\\n",
       "0     2017-02-01 00:00:00   2.548    82.60 -5573 -5393 -5455 -5419  3.31   \n",
       "1     2017-02-01 00:01:00   2.883   199.40 -5572 -5390 -5455 -5419  3.31   \n",
       "2     2017-02-01 00:02:00   3.168    77.67 -5573 -5390 -5455 -5419  3.31   \n",
       "3     2017-02-01 00:03:00   3.336    68.24 -5572 -5390 -5455 -5418  3.31   \n",
       "4     2017-02-01 00:04:00   3.319    73.17 -5572 -5390 -5456 -5419  3.31   \n",
       "...                   ...     ...      ...   ...   ...   ...   ...   ...   \n",
       "40315 2017-02-28 23:55:00   1.643   242.00 -5606 -5393 -5510 -5432  3.27   \n",
       "40316 2017-02-28 23:56:00   1.810   229.90 -5606 -5392 -5510 -5433  3.27   \n",
       "40317 2017-02-28 23:57:00   2.565   224.40 -5605 -5393 -5510 -5433  3.27   \n",
       "40318 2017-02-28 23:58:00   1.961   248.70 -5607 -5391 -5510 -5432  3.27   \n",
       "40319 2017-02-28 23:59:00   1.777   227.20 -5607 -5391 -5510 -5433  3.27   \n",
       "\n",
       "        F02  Troccia   Tamb    UR   RG  \n",
       "0      6.97    7.604  5.938  92.4  0.0  \n",
       "1      6.98    7.604  5.870  92.5  0.0  \n",
       "2      6.97    7.605  5.837  92.8  0.0  \n",
       "3      6.98    7.605  5.871  93.1  0.0  \n",
       "4      6.97    7.606  5.906  93.2  0.0  \n",
       "...     ...      ...    ...   ...  ...  \n",
       "40315  6.98   10.490  8.350  98.0  0.0  \n",
       "40316  6.98   10.490  8.380  98.0  0.0  \n",
       "40317  6.98   10.490  8.310  98.1  0.0  \n",
       "40318  6.98   10.490  8.350  98.0  0.0  \n",
       "40319  6.98   10.490  8.350  98.0  0.0  \n",
       "\n",
       "[40320 rows x 13 columns]"
      ]
     },
     "execution_count": 84,
     "metadata": {},
     "output_type": "execute_result"
    }
   ],
   "source": [
    "df['Timestamp'] = pd.to_datetime(df['Timestamp'], format='%d/%m/%Y %H:%M:%S' )\n",
    "df"
   ]
  },
  {
   "cell_type": "code",
   "execution_count": 86,
   "metadata": {},
   "outputs": [
    {
     "data": {
      "text/plain": [
       "[<matplotlib.lines.Line2D at 0x19c618839c8>]"
      ]
     },
     "execution_count": 86,
     "metadata": {},
     "output_type": "execute_result"
    }
   ],
   "source": [
    "import matplotlib.pyplot as plt\n",
    "%matplotlib qt\n",
    "f, ax = plt.subplots(1,1)\n",
    "ax.plot(df.Timestamp,df.SG01,'k-o')"
   ]
  },
  {
   "cell_type": "markdown",
   "metadata": {},
   "source": [
    "## Homework  \n",
    "Find if there is a relation betwee wind speed and temperature (at the Troccia station) in the period between February 15th and February 20th."
   ]
  }
 ],
 "metadata": {
  "kernelspec": {
   "display_name": "Python 3 (ipykernel)",
   "language": "python",
   "name": "python3"
  },
  "language_info": {
   "codemirror_mode": {
    "name": "ipython",
    "version": 3
   },
   "file_extension": ".py",
   "mimetype": "text/x-python",
   "name": "python",
   "nbconvert_exporter": "python",
   "pygments_lexer": "ipython3",
   "version": "3.9.13"
  }
 },
 "nbformat": 4,
 "nbformat_minor": 4
}
