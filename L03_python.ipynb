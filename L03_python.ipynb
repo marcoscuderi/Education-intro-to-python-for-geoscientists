{
 "cells": [
  {
   "cell_type": "markdown",
   "metadata": {},
   "source": [
    "## Flow control and logic  \n",
    "FLow control is a high-level way to program a computer to make decisions.  \n",
    "The flow control determine the **execution pathway** of the program.  \n",
    "The basic flow control are:  \n",
    "- conditionals\n",
    "- loops  \n",
    "\n",
    "Why should I care?  \n",
    "Because flow control and logic are the building block of any physics model. These allow to tell the computer how to make choices. These structures allow to perform repetitive actions over time very fast, making easy operations that otherwise would be impossible to make. "
   ]
  },
  {
   "cell_type": "markdown",
   "metadata": {},
   "source": [
    "## Conditionals ##\n",
    "The simples form of flow control.  \n",
    "their structure follows:  \n",
    "\n",
    "```python\n",
    "if (condition):  \n",
    "    (do something)\n",
    "```\n",
    "Example:  \n",
    "```python\n",
    "x=3\n",
    "if x<2:\n",
    "    do something\n",
    "```\n",
    "Or in other words, if x is true, then do something; otherwise, do something else.  \n",
    "\n",
    "The condition can be made of comparison operator and/or a combination of them.  \n",
    "It is important to note that Python is **whitespace separated** that means that the content of the **if block** is determined by the indentation level (4 spaces). To exit the if block the indentation is returned back to the original level. "
   ]
  },
  {
   "cell_type": "code",
   "execution_count": 1,
   "metadata": {},
   "outputs": [
    {
     "name": "stdout",
     "output_type": "stream",
     "text": [
      "1.0\n",
      "h-bar isn't really unity! Resetting...\n",
      "1.05457173e-34\n"
     ]
    }
   ],
   "source": [
    "# I want to meke sure that the variable h_bar has a determined value of 1.05457173e-34\n",
    "h_bar = 1.0\n",
    "print (h_bar)\n",
    "if h_bar == 1.0:\n",
    "    print(\"h-bar isn't really unity! Resetting...\")\n",
    "    h_bar = 1.05457173e-34\n",
    "print (h_bar)"
   ]
  },
  {
   "cell_type": "markdown",
   "metadata": {},
   "source": [
    "What is happening here is that we want to check if h_bar is srictly equal to 1.0. if this condition is true we want to change it's value since it is not the desired one. "
   ]
  },
  {
   "cell_type": "code",
   "execution_count": 5,
   "metadata": {},
   "outputs": [
    {
     "name": "stdout",
     "output_type": "stream",
     "text": [
      "h-bar isn't really unity! Resetting...\n"
     ]
    },
    {
     "data": {
      "text/plain": [
       "6.626064002501399e-34"
      ]
     },
     "execution_count": 5,
     "metadata": {},
     "output_type": "execute_result"
    }
   ],
   "source": [
    "h_bar = 3\n",
    "if h_bar > 1:\n",
    "    print(\"h-bar isn't really unity! Resetting...\")\n",
    "    h_bar = 1.05457173e-34\n",
    "h = h_bar * 2 * 3.14159\n",
    "h"
   ]
  },
  {
   "cell_type": "markdown",
   "metadata": {},
   "source": [
    "### We can add further statement to make better decision.###    \n",
    "The construct **if-else** help us in doing so.  \n",
    "```python\n",
    "if (condition):  \n",
    "    - (do something)  \n",
    "else:  \n",
    "    - (do something different)\n",
    "```\n",
    "For this construct if the first condition return True, the if-block is executed, whereas, if it return False the else-block is executed."
   ]
  },
  {
   "cell_type": "code",
   "execution_count": 9,
   "metadata": {},
   "outputs": [
    {
     "name": "stdout",
     "output_type": "stream",
     "text": [
      "pippo is greater than 1\n"
     ]
    }
   ],
   "source": [
    "pippo = 1.0 \n",
    "if pippo >= 1.0:\n",
    "    print ('pippo is greater than 1')\n",
    "else:\n",
    "    print ('pippo is less that 1')\n",
    "        "
   ]
  },
  {
   "cell_type": "markdown",
   "metadata": {},
   "source": [
    "## The last contruct for conditional is expresses as: ##  \n",
    "**if-elif-else**  \n",
    "The elif abbreviation stands for else-if and it is always in betweeen the if and else statements. Functionally, elif has the same effect of the if statement, and there may be as many of them as desired.  \n",
    "With this construct the first conditional that evaluates True determine the block that is executed, and no further conditionals or block are executed.  \n",
    "```python\n",
    "if (condition0):   \n",
    "    (if-block)  \n",
    "elif (condition1):  \n",
    "    (elif-block1)  \n",
    "elif (condition2):    \n",
    "    (elif-block2)  \n",
    "...  (you can use as many elif as needed)\n",
    "else:  \n",
    "    (else-block)\n",
    "```"
   ]
  },
  {
   "cell_type": "code",
   "execution_count": 20,
   "metadata": {},
   "outputs": [
    {
     "data": {
      "text/plain": [
       "'pippo'"
      ]
     },
     "execution_count": 20,
     "metadata": {},
     "output_type": "execute_result"
    }
   ],
   "source": [
    "pippo = 6\n",
    "if pippo<5:\n",
    "    pippo = 0.0\n",
    "elif pippo>6:\n",
    "    pippo=1.0\n",
    "elif pippo ==5:\n",
    "    print ('sto nel mezzo')\n",
    "else:\n",
    "    pippo = 'pippo'\n",
    "pippo "
   ]
  },
  {
   "cell_type": "markdown",
   "metadata": {},
   "source": [
    "**if-else expression**  \n",
    "Thi is also called **ternary operator** allowing for simple if-else expressions to be evaluated in a single one-line expression.  \n",
    "```python\n",
    "x if (condition) else y  \n",
    "```\n",
    "In this case it works like: if the condition is evaluated as True x is returned, otherwise y is returned."
   ]
  },
  {
   "cell_type": "code",
   "execution_count": 22,
   "metadata": {},
   "outputs": [
    {
     "name": "stdout",
     "output_type": "stream",
     "text": [
      "20\n"
     ]
    }
   ],
   "source": [
    "# Program to demonstrate ternary operator \n",
    "a, b = 30, 20\n",
    "\n",
    "# Copy value of a in min if a < b else copy b \n",
    "min = a if a < b else b \n",
    "    \n",
    "print(min) "
   ]
  },
  {
   "cell_type": "markdown",
   "metadata": {},
   "source": [
    "## Loops ##  \n",
    "Computers are very good at performing the same operation over and over. *Loops* help us in executing the same block of code multiple times. There are two main formats for loops:  \n",
    "- while loops \n",
    "- for loops\n"
   ]
  },
  {
   "cell_type": "markdown",
   "metadata": {},
   "source": [
    "## While loops ##  \n",
    "while loops are related to if statements because they continue to execute “while a condition is true.” They have nearly the same syntax, except the if is replaced with the while keyword.  \n",
    "```python\n",
    "while <condition>:\n",
    "    <while-block of instructions>\n",
    "```\n",
    "The condition here is evaluated right before every loop iteration. If the condition is or remains True, then the block is executed. If the condition is False, then the while block is skipped and the program continues."
   ]
  },
  {
   "cell_type": "code",
   "execution_count": 23,
   "metadata": {},
   "outputs": [
    {
     "name": "stdout",
     "output_type": "stream",
     "text": [
      "t-minus 5\n",
      "t-minus 4\n",
      "t-minus 3\n",
      "t-minus 2\n",
      "t-minus 1\n",
      "blastoff!\n"
     ]
    }
   ],
   "source": [
    "# countdown timer\n",
    "t = 5\n",
    "while t > 0:\n",
    "    print(\"t-minus \" + str(t))\n",
    "    t = t - 1\n",
    "print(\"blastoff!\")"
   ]
  },
  {
   "cell_type": "markdown",
   "metadata": {},
   "source": [
    "If the condition evaluates to False, then the while block will never be entered. For example:"
   ]
  },
  {
   "cell_type": "code",
   "execution_count": 1,
   "metadata": {},
   "outputs": [
    {
     "name": "stdout",
     "output_type": "stream",
     "text": [
      "I am in the while loop.\n",
      "I am sorry you are not in the while loop.\n"
     ]
    }
   ],
   "source": [
    "t = 2\n",
    "while t > 1:\n",
    "    print(\"I am in the while loop.\")\n",
    "    \n",
    "print(\"I am sorry you are not in the while loop.\")"
   ]
  },
  {
   "cell_type": "markdown",
   "metadata": {},
   "source": [
    "On the other hand, if the condition always evaluates to True, the while block will continue to be executed no matter what. This is known as an infinite or nonterminating loop."
   ]
  },
  {
   "cell_type": "code",
   "execution_count": 21,
   "metadata": {
    "collapsed": true,
    "jupyter": {
     "outputs_hidden": true
    }
   },
   "outputs": [],
   "source": [
    "# Uncomment the following to print forever\n",
    "t = 3\n",
    "while True:\n",
    "    print(\"t-minus \" + str(t))\n",
    "    t = t - 1\n",
    "print(\"blastoff!\")"
   ]
  },
  {
   "cell_type": "markdown",
   "metadata": {},
   "source": [
    "The **break** statement is Python’s way of leaving a loop early.  \n",
    "Consider the following while loop, which computes successive elements of the *Fibonacci series* and adds them to the fib list. This loop will continue forever unless it finds an entry that is divisible by 12, at which point it will immediately leave the loop and not add the entry to the list:"
   ]
  },
  {
   "cell_type": "code",
   "execution_count": 3,
   "metadata": {},
   "outputs": [
    {
     "name": "stdout",
     "output_type": "stream",
     "text": [
      "[1, 1]\n",
      "2\n",
      "[1, 1, 2]\n",
      "3\n",
      "[1, 1, 2, 3]\n",
      "5\n",
      "[1, 1, 2, 3, 5]\n",
      "8\n",
      "[1, 1, 2, 3, 5, 8]\n",
      "13\n",
      "[1, 1, 2, 3, 5, 8, 13]\n",
      "21\n",
      "[1, 1, 2, 3, 5, 8, 13, 21]\n",
      "34\n",
      "[1, 1, 2, 3, 5, 8, 13, 21, 34]\n",
      "55\n",
      "[1, 1, 2, 3, 5, 8, 13, 21, 34, 55]\n",
      "89\n",
      "[1, 1, 2, 3, 5, 8, 13, 21, 34, 55, 89]\n",
      "144\n",
      "144 is divisible by 12, the loop is stopped\n"
     ]
    }
   ],
   "source": [
    "fib = [1, 1]\n",
    "print (fib)\n",
    "while True:\n",
    "    x = fib[-2] + fib[-1]\n",
    "    print (x)\n",
    "    if x%12 == 0:\n",
    "        break\n",
    "    fib.append(x)\n",
    "    print (fib)\n",
    "print('%s is divisible by 12, the loop is stopped'%x)"
   ]
  },
  {
   "cell_type": "markdown",
   "metadata": {},
   "source": [
    "Note that in this loop we have two logic controls. We have a higher level while loop and a lower level if block. This structure is called **nested**. "
   ]
  },
  {
   "cell_type": "markdown",
   "metadata": {},
   "source": [
    "## For loops ##  \n",
    "It is typically more useful to iterate over a container or other “iterable,” grabbing a single element each time through and exiting the loop when there are no more elements in the container. In Python, **for loops** fill this role. They use the **for** and **in** keywords and have the following syntax:  \n",
    "```python\n",
    "for <loop-var> in <iterable>:\n",
    "    do something\n",
    "```\n",
    "\n",
    "The **loop-var** is a variable name that is assigned to a new element of the iterable on each pass through the loop. The **iterable** is any Python object (lists, touples, dictionaries, strings) that can return elements. "
   ]
  },
  {
   "cell_type": "code",
   "execution_count": 10,
   "metadata": {},
   "outputs": [
    {
     "name": "stdout",
     "output_type": "stream",
     "text": [
      "t-minus 3\n",
      "t-minus 2\n",
      "t-minus 1\n",
      "blastoff!\n"
     ]
    }
   ],
   "source": [
    "# let's build the same countdown with a for loop\n",
    "time = [3, 2, 1]\n",
    "for t in time:\n",
    "    print(\"t-minus \" + str(t))\n",
    "print(\"blastoff!\")"
   ]
  },
  {
   "cell_type": "markdown",
   "metadata": {},
   "source": [
    "Other than the break statement, it is also possible to use the **continue** statement. This exits out of the current iteration of the loop only and continues on with the next iteration. It does not break out of the whole loop."
   ]
  },
  {
   "cell_type": "code",
   "execution_count": 13,
   "metadata": {},
   "outputs": [
    {
     "name": "stdout",
     "output_type": "stream",
     "text": [
      "t-minus 7\n",
      "t-minus 5\n",
      "t-minus 4\n",
      "t-minus 2\n",
      "t-minus 1\n",
      "blastoff!\n"
     ]
    }
   ],
   "source": [
    "# here I want to skip the even values\n",
    "time = [7, 6, 5, 4, 3, 2, 1]\n",
    "for t in time:\n",
    "    if t%3 == 0:\n",
    "        continue\n",
    "    print(\"t-minus \" + str(t))\n",
    "print(\"blastoff!\")"
   ]
  },
  {
   "cell_type": "markdown",
   "metadata": {},
   "source": [
    "Note that containers choose how they are iterated over. For sequences (strings, lists, tuples), there is a natural iteration order."
   ]
  },
  {
   "cell_type": "code",
   "execution_count": 14,
   "metadata": {},
   "outputs": [
    {
     "name": "stdout",
     "output_type": "stream",
     "text": [
      "G\n",
      "o\n",
      "r\n",
      "g\n",
      "u\n",
      "s\n"
     ]
    }
   ],
   "source": [
    "for letter in \"Gorgus\":\n",
    "    print(letter)"
   ]
  },
  {
   "cell_type": "markdown",
   "metadata": {},
   "source": [
    "However, unordered data structures (dictionaries) have an unpredictable iteration ordering. All elements are guaranteed to be iterated over, but when each element comes out is not predictable. Furthermore, the loop variable could be the keys, the values, or both (the items). Python chooses to return the keys when looping over a dictionary. "
   ]
  },
  {
   "cell_type": "code",
   "execution_count": 15,
   "metadata": {},
   "outputs": [
    {
     "name": "stdout",
     "output_type": "stream",
     "text": [
      "first\n",
      "Albert\n",
      "======\n",
      "last\n",
      "Einstein\n",
      "======\n",
      "birthday\n",
      "[1879, 3, 14]\n",
      "======\n"
     ]
    }
   ],
   "source": [
    "d = {\"first\": \"Albert\", \n",
    "     \"last\": \"Einstein\", \n",
    "     \"birthday\": [1879, 3, 14]}\n",
    "\n",
    "for key in d:\n",
    "    print(key)\n",
    "    print(d[key])\n",
    "    print(\"======\")"
   ]
  },
  {
   "cell_type": "code",
   "execution_count": 16,
   "metadata": {},
   "outputs": [
    {
     "name": "stdout",
     "output_type": "stream",
     "text": [
      "Keys:\n",
      "first\n",
      "last\n",
      "birthday\n",
      "\n",
      "======\n",
      "\n",
      "Values:\n",
      "Albert\n",
      "Einstein\n",
      "[1879, 3, 14]\n",
      "\n",
      "======\n",
      "\n",
      "Items:\n",
      "first Albert\n",
      "last Einstein\n",
      "birthday [1879, 3, 14]\n"
     ]
    }
   ],
   "source": [
    "d = {\"first\": \"Albert\", \n",
    "     \"last\": \"Einstein\", \n",
    "     \"birthday\": [1879, 3, 14]}\n",
    "\n",
    "print(\"Keys:\")\n",
    "for key in d.keys():\n",
    "    print(key)\n",
    "\n",
    "print(\"\\n======\\n\")\n",
    "\n",
    "print(\"Values:\")\n",
    "for value in d.values():\n",
    "    print(value)\n",
    "\n",
    "print(\"\\n======\\n\")\n",
    "\n",
    "print(\"Items:\")\n",
    "for key, value in d.items():\n",
    "    print(key, value)"
   ]
  },
  {
   "cell_type": "markdown",
   "metadata": {},
   "source": [
    "When iterating over items, the elements come back as key/value tuples. These can be unpacked into their own loop variables."
   ]
  },
  {
   "cell_type": "code",
   "execution_count": 17,
   "metadata": {},
   "outputs": [
    {
     "name": "stdout",
     "output_type": "stream",
     "text": [
      "('first', 'Albert')\n",
      "('last', 'Einstein')\n",
      "('birthday', [1879, 3, 14])\n"
     ]
    }
   ],
   "source": [
    "for item in d.items():\n",
    "    print(item)"
   ]
  },
  {
   "cell_type": "code",
   "execution_count": 42,
   "metadata": {
    "collapsed": true,
    "jupyter": {
     "outputs_hidden": true
    }
   },
   "outputs": [
    {
     "name": "stdout",
     "output_type": "stream",
     "text": [
      "('first', 'Albert')\n",
      "first\n",
      "('last', 'Einstein')\n",
      "last\n",
      "('birthday', [1879, 3, 14])\n",
      "birthday\n"
     ]
    }
   ],
   "source": [
    "for item in d.items():\n",
    "    print(item)\n",
    "    print(item[0])"
   ]
  }
 ],
 "metadata": {
  "kernelspec": {
   "display_name": "Python 3 (ipykernel)",
   "language": "python",
   "name": "python3"
  },
  "language_info": {
   "codemirror_mode": {
    "name": "ipython",
    "version": 3
   },
   "file_extension": ".py",
   "mimetype": "text/x-python",
   "name": "python",
   "nbconvert_exporter": "python",
   "pygments_lexer": "ipython3",
   "version": "3.9.13"
  }
 },
 "nbformat": 4,
 "nbformat_minor": 4
}
