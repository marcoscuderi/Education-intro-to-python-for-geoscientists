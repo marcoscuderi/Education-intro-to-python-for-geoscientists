{
 "cells": [
  {
   "cell_type": "markdown",
   "metadata": {
    "slideshow": {
     "slide_type": "slide"
    }
   },
   "source": [
    "# Fisica della Terra Solida  \n",
    "## Introduction to Python programming  \n",
    "Oct 3 2022  \n",
    "Marco Scuderi "
   ]
  },
  {
   "cell_type": "markdown",
   "metadata": {
    "slideshow": {
     "slide_type": "slide"
    }
   },
   "source": [
    "# What is a program ?"
   ]
  },
  {
   "cell_type": "markdown",
   "metadata": {
    "slideshow": {
     "slide_type": "-"
    }
   },
   "source": [
    "Programming is the art of **giving instruction** to a computer to be executed.  \n",
    "Programming is like learn a **new language**, it has:  \n",
    "- Sintaxt and grammar  \n",
    "- Construction rules  \n",
    "- and os on  "
   ]
  },
  {
   "cell_type": "markdown",
   "metadata": {
    "slideshow": {
     "slide_type": "subslide"
    },
    "tags": []
   },
   "source": [
    "Any time that we face a problem that requires actions that must be repeated we need a program.  \n",
    "In the era of big data is **not conceivable** to make **manual data analysis**. We need to authomatize actions.  \n",
    "Let's consider a simple example such as the Fibonacci sequence:  \n",
    "$$F_n = F_{n-1} + F_{n-2}$$"
   ]
  },
  {
   "cell_type": "code",
   "execution_count": 2,
   "metadata": {
    "jupyter": {
     "outputs_hidden": true
    },
    "slideshow": {
     "slide_type": "subslide"
    },
    "tags": []
   },
   "outputs": [
    {
     "name": "stdout",
     "output_type": "stream",
     "text": [
      "[1, 1]\n",
      "2\n",
      "[1, 1, 2]\n",
      "3\n",
      "[1, 1, 2, 3]\n",
      "5\n",
      "[1, 1, 2, 3, 5]\n",
      "8\n",
      "[1, 1, 2, 3, 5, 8]\n",
      "13\n",
      "[1, 1, 2, 3, 5, 8, 13]\n",
      "21\n",
      "[1, 1, 2, 3, 5, 8, 13, 21]\n",
      "34\n",
      "[1, 1, 2, 3, 5, 8, 13, 21, 34]\n",
      "55\n",
      "[1, 1, 2, 3, 5, 8, 13, 21, 34, 55]\n",
      "89\n",
      "[1, 1, 2, 3, 5, 8, 13, 21, 34, 55, 89]\n",
      "144\n",
      "[1, 1, 2, 3, 5, 8, 13, 21, 34, 55, 89, 144]\n",
      "233\n",
      "[1, 1, 2, 3, 5, 8, 13, 21, 34, 55, 89, 144, 233]\n",
      "377\n",
      "[1, 1, 2, 3, 5, 8, 13, 21, 34, 55, 89, 144, 233, 377]\n",
      "610\n",
      "[1, 1, 2, 3, 5, 8, 13, 21, 34, 55, 89, 144, 233, 377, 610]\n",
      "987\n",
      "[1, 1, 2, 3, 5, 8, 13, 21, 34, 55, 89, 144, 233, 377, 610, 987]\n",
      "1597\n",
      "[1, 1, 2, 3, 5, 8, 13, 21, 34, 55, 89, 144, 233, 377, 610, 987, 1597]\n",
      "2584\n",
      "[1, 1, 2, 3, 5, 8, 13, 21, 34, 55, 89, 144, 233, 377, 610, 987, 1597, 2584]\n",
      "4181\n",
      "[1, 1, 2, 3, 5, 8, 13, 21, 34, 55, 89, 144, 233, 377, 610, 987, 1597, 2584, 4181]\n",
      "6765\n",
      "6765 is divisible by 12, the loop is stopped\n"
     ]
    }
   ],
   "source": [
    "fib = [1, 1]\n",
    "print (fib)\n",
    "while True:\n",
    "    x = fib[-2] + fib[-1]\n",
    "    print (x)\n",
    "    if x%15 == 0:\n",
    "        break\n",
    "    fib.append(x)\n",
    "    print (fib)\n",
    "print('%s is divisible by 12, the loop is stopped'%x)"
   ]
  },
  {
   "cell_type": "markdown",
   "metadata": {
    "slideshow": {
     "slide_type": "slide"
    }
   },
   "source": [
    "# Why python?"
   ]
  },
  {
   "cell_type": "markdown",
   "metadata": {
    "slideshow": {
     "slide_type": "subslide"
    }
   },
   "source": [
    "## - It's easy to learn, easy to read and fast to develop"
   ]
  },
  {
   "cell_type": "markdown",
   "metadata": {
    "slideshow": {
     "slide_type": "fragment"
    }
   },
   "source": [
    "It is considered to be the language of **choice for beginners**, and proper code formatting is in the design of the language. This is especially useful when you remember, that **we are the scientist not programmers**. What we need is to have a language that can be **learned quickly**, but at the same time is powerful enough to satisfy our needs."
   ]
  },
  {
   "cell_type": "markdown",
   "metadata": {
    "slideshow": {
     "slide_type": "subslide"
    }
   },
   "source": [
    "##  - It's free and opensource. "
   ]
  },
  {
   "cell_type": "markdown",
   "metadata": {
    "slideshow": {
     "slide_type": "fragment"
    }
   },
   "source": [
    "You will be able to use your scripts even if your institute does not have enough money to buy expensive software (MATLAB or IDL). You can make changes in the code, or at least have the possibility to look at the source code if you suspect that there is a bug."
   ]
  },
  {
   "cell_type": "markdown",
   "metadata": {
    "slideshow": {
     "slide_type": "subslide"
    }
   },
   "source": [
    "## - It's multiplatform"
   ]
  },
  {
   "cell_type": "markdown",
   "metadata": {
    "slideshow": {
     "slide_type": "fragment"
    }
   },
   "source": [
    "You can find it on many systems, so you are not tied to Windows, Mac or Linux. It sounds great, but is not always the case: some modules will work only on limited number of operating systems (e.g. PyNGL, pyFerret)."
   ]
  },
  {
   "cell_type": "markdown",
   "metadata": {
    "slideshow": {
     "slide_type": "subslide"
    }
   },
   "source": [
    "## - It's general purpose language"
   ]
  },
  {
   "cell_type": "markdown",
   "metadata": {
    "slideshow": {
     "slide_type": "fragment"
    }
   },
   "source": [
    "You can use it not only for data processing and visualization, but also for system administration, web development, database programming and so on. It is relatively easy to make your code run in the parallel mode. Last but not the least - if you ever decide to leave academia your chances on the market are much better with some python skills.\n"
   ]
  },
  {
   "cell_type": "markdown",
   "metadata": {
    "slideshow": {
     "slide_type": "slide"
    }
   },
   "source": [
    "# Python in Earth Sciences"
   ]
  },
  {
   "cell_type": "markdown",
   "metadata": {
    "slideshow": {
     "slide_type": "fragment"
    }
   },
   "source": [
    "- There are an infinite number of tools in python that are applied to the geosciences to analyze and process data  \n",
    "\n",
    "Lin, J. W.-B. (2012). [**Why Python Is the Next Wave in Earth Sciences Computing**](http://journals.ametsoc.org/doi/full/10.1175/BAMS-D-12-00148.1). *Bulletin of the American Meteorological Society*, 93(12), 1823–1824. doi:10.1175/BAMS-D-12-00148.1  \n",
    "\n",
    "\n",
    "- Clearly **Machine Learning** plays a major role in  the improvement of our understanding of Earth\n",
    "\n",
    "\n",
    "Johnson, P. A. et al.(2021) [**Laboratory earthquake forecasting: A machine learning competition**](https://www.pnas.org/doi/full/10.1073/pnas.2011362118)Natl Acad Sci Usa 118.\n",
    "\n",
    "[**Random Forest for Lithology Classification From Well Log Data**](https://towardsdatascience.com/random-forest-for-lithology-classification-from-well-log-data-4a1380ef025b)  \n",
    "\n",
    "And the list can go over and over"
   ]
  },
  {
   "cell_type": "markdown",
   "metadata": {
    "slideshow": {
     "slide_type": "slide"
    }
   },
   "source": [
    "### Some resources if you want to know more:  \n",
    "\n",
    "- Books\n",
    "    - [Effective computation in physics](https://www.oreilly.com/library/view/effective-computation-in/9781491901564/) \n",
    "    - [Python for data analysis](https://www.oreilly.com/library/view/python-for-data/9781449323592/)  \n",
    "    - [Introducetion to python in Earth Science data analysis](https://link.springer.com/book/10.1007/978-3-030-78055-5)  \n",
    "    - [Python Recipes for Earth Sciences](https://link.springer.com/book/10.1007/978-3-031-07719-7) \n",
    "    - [check out the Springer Series of books on Earth Science](https://www.springer.com/series/15201)  \n",
    "    \n",
    "    \n",
    "- Wbsites/blog  \n",
    "    - [Toward data science](https://towardsdatascience.com/)\n",
    "    - [Free code camp](https://www.freecodecamp.org/news/)  \n",
    "    - [AI Sweigart](https://www.youtube.com/user/Albert10110)  \n",
    "    - [Unidata](https://www.youtube.com/c/unidatanews)  \n",
    "    - [Entought](https://www.youtube.com/c/enthought)\n",
    "    - [Geology and python](http://geologyandpython.com/toa-landsat-8.html)\n",
    "    - And **many many many more** "
   ]
  },
  {
   "cell_type": "markdown",
   "metadata": {
    "slideshow": {
     "slide_type": "slide"
    }
   },
   "source": [
    "# Let's take a look at the main tools to write programs  \n",
    "- Jupyter lab / jupyter notebook  \n",
    "- Integrated Development Environment (IDE)  \n",
    "    - Spyder  \n",
    "    - Visual Studio Code "
   ]
  },
  {
   "cell_type": "markdown",
   "metadata": {
    "slideshow": {
     "slide_type": "slide"
    }
   },
   "source": [
    "## Run notebook"
   ]
  },
  {
   "cell_type": "markdown",
   "metadata": {
    "slideshow": {
     "slide_type": "fragment"
    }
   },
   "source": [
    "In order to start Jupyter Lab you have to:  \n",
    "\n",
    "- Open the Anaconda prompt   \n",
    "    - **win+s** and type \"anaconda prompt\"  \n",
    "    - Navigate to the **directory** you want to work on   \n",
    "\n",
    "- type \"jupyter lab\" or \"jupyter notebook\"\n"
   ]
  },
  {
   "cell_type": "markdown",
   "metadata": {
    "slideshow": {
     "slide_type": "slide"
    }
   },
   "source": [
    "### Cells in the notebook"
   ]
  },
  {
   "cell_type": "markdown",
   "metadata": {
    "slideshow": {
     "slide_type": "fragment"
    }
   },
   "source": [
    "A Cell is used to contain some code that can be executed.  \n",
    "\n",
    "press **control + enter** to execute the cell  \n",
    "\n",
    "press **shift + enter**   to execute the cell and go to the next one"
   ]
  },
  {
   "cell_type": "code",
   "execution_count": 4,
   "metadata": {
    "slideshow": {
     "slide_type": "fragment"
    }
   },
   "outputs": [
    {
     "name": "stdout",
     "output_type": "stream",
     "text": [
      "Hello Sir Newton. How are you_\n"
     ]
    }
   ],
   "source": [
    "print(\"Hello Sir Newton. How are you?\")"
   ]
  },
  {
   "cell_type": "markdown",
   "metadata": {
    "slideshow": {
     "slide_type": "subslide"
    }
   },
   "source": [
    "### **You have just written your first program !! ** "
   ]
  },
  {
   "cell_type": "code",
   "execution_count": 2,
   "metadata": {
    "jupyter": {
     "source_hidden": true
    },
    "slideshow": {
     "slide_type": "skip"
    },
    "tags": []
   },
   "outputs": [
    {
     "name": "stdout",
     "output_type": "stream",
     "text": [
      "Hey Isaac, what's Newton?!\n",
      "How is it going, Gottfried?\n"
     ]
    }
   ],
   "source": [
    "print(\"Hey Isaac, what's Newton?!\")\n",
    "print(\"How is it going, Gottfried?\")"
   ]
  },
  {
   "cell_type": "markdown",
   "metadata": {
    "slideshow": {
     "slide_type": "slide"
    }
   },
   "source": [
    "# variables #  \n",
    "Variables consist of two parts: the name and the value.  \n",
    "**name = value**  \n",
    "They represent a container where you put something, that something is what it matters.\n",
    "This means that you monetarely associate a piece of your RAM to something. "
   ]
  },
  {
   "cell_type": "code",
   "execution_count": 8,
   "metadata": {
    "slideshow": {
     "slide_type": "fragment"
    }
   },
   "outputs": [
    {
     "name": "stdout",
     "output_type": "stream",
     "text": [
      "pippo\n"
     ]
    }
   ],
   "source": [
    "pippo =20\n",
    "print('pippo')"
   ]
  },
  {
   "cell_type": "code",
   "execution_count": 10,
   "metadata": {
    "slideshow": {
     "slide_type": "fragment"
    }
   },
   "outputs": [],
   "source": [
    "plus_2_forty = 42   "
   ]
  },
  {
   "cell_type": "code",
   "execution_count": 11,
   "metadata": {
    "slideshow": {
     "slide_type": "fragment"
    }
   },
   "outputs": [],
   "source": [
    "two_plus40 = 42   # good"
   ]
  },
  {
   "cell_type": "markdown",
   "metadata": {
    "slideshow": {
     "slide_type": "slide"
    }
   },
   "source": [
    "You can use or manipulate a variables however you wish.  \n",
    "Here we define a variable pi and use it together with the variable h_bar to create a new variable h."
   ]
  },
  {
   "cell_type": "code",
   "execution_count": 16,
   "metadata": {
    "slideshow": {
     "slide_type": "fragment"
    }
   },
   "outputs": [
    {
     "name": "stdout",
     "output_type": "stream",
     "text": [
      "12.56636\n"
     ]
    }
   ],
   "source": [
    " '''\n",
    "posso \n",
    "scrivere piu commnet \n",
    "'''\n",
    "pi = 3.14159\n",
    "r = 2\n",
    "A = pi * r**2 #area del cerchio\n",
    "# fammi vedere il valore \n",
    "print(A)\n"
   ]
  },
  {
   "cell_type": "markdown",
   "metadata": {
    "slideshow": {
     "slide_type": "slide"
    }
   },
   "source": [
    "All variables in Python are typed. This means that the values have certain welldefined properties that dictate how they are used.  \n",
    "- Integers and floating-point numbers **(int and\n",
    "float)** are meant for mathematical operations.\n",
    "- Strings (str) are helpful for textual\n",
    "manipulation."
   ]
  },
  {
   "cell_type": "code",
   "execution_count": 18,
   "metadata": {
    "slideshow": {
     "slide_type": "fragment"
    }
   },
   "outputs": [],
   "source": [
    "dims = 3                   # int, only digits\n",
    "ndim = 3.0                 # float, because of the '.'\n",
    "h_bar = 1.05457e-34        # float, because of the '.' or 'e'\n",
    "label = \"Energy (in MeV)\"  # str, quotes surround the text"
   ]
  },
  {
   "cell_type": "code",
   "execution_count": 20,
   "metadata": {
    "slideshow": {
     "slide_type": "fragment"
    }
   },
   "outputs": [
    {
     "data": {
      "text/plain": [
       "float"
      ]
     },
     "execution_count": 20,
     "metadata": {},
     "output_type": "execute_result"
    }
   ],
   "source": [
    "type(ndim)"
   ]
  },
  {
   "cell_type": "code",
   "execution_count": 8,
   "metadata": {
    "slideshow": {
     "slide_type": "skip"
    }
   },
   "outputs": [
    {
     "data": {
      "text/plain": [
       "float"
      ]
     },
     "execution_count": 8,
     "metadata": {},
     "output_type": "execute_result"
    }
   ],
   "source": [
    "type(h_bar)"
   ]
  },
  {
   "cell_type": "code",
   "execution_count": 9,
   "metadata": {
    "collapsed": true,
    "jupyter": {
     "outputs_hidden": true
    },
    "slideshow": {
     "slide_type": "skip"
    }
   },
   "outputs": [
    {
     "data": {
      "text/plain": [
       "int"
      ]
     },
     "execution_count": 9,
     "metadata": {},
     "output_type": "execute_result"
    }
   ],
   "source": [
    "type(42)"
   ]
  },
  {
   "cell_type": "markdown",
   "metadata": {
    "slideshow": {
     "slide_type": "slide"
    }
   },
   "source": [
    "You can use the type names to convert between types"
   ]
  },
  {
   "cell_type": "code",
   "execution_count": 26,
   "metadata": {
    "jupyter": {
     "outputs_hidden": true
    },
    "slideshow": {
     "slide_type": "fragment"
    }
   },
   "outputs": [
    {
     "data": {
      "text/plain": [
       "40.0"
      ]
     },
     "execution_count": 26,
     "metadata": {},
     "output_type": "execute_result"
    }
   ],
   "source": [
    "pippo = 10\n",
    "#type(pippo)\n",
    "float(40)\n"
   ]
  },
  {
   "cell_type": "code",
   "execution_count": 27,
   "metadata": {
    "slideshow": {
     "slide_type": "fragment"
    }
   },
   "outputs": [
    {
     "data": {
      "text/plain": [
       "28"
      ]
     },
     "execution_count": 27,
     "metadata": {},
     "output_type": "execute_result"
    }
   ],
   "source": [
    "int(\"28\")"
   ]
  },
  {
   "cell_type": "markdown",
   "metadata": {
    "slideshow": {
     "slide_type": "slide"
    }
   },
   "source": [
    "In the expression int(\"28\"), the string \"28\" is being converted to an integer. This is\n",
    "possible because the string only contains characters that happen to be digits. If the\n",
    "string has a value that makes no sense as an integer, then the conversion fails!"
   ]
  },
  {
   "cell_type": "code",
   "execution_count": 28,
   "metadata": {
    "slideshow": {
     "slide_type": "fragment"
    }
   },
   "outputs": [
    {
     "ename": "ValueError",
     "evalue": "invalid literal for int() with base 10: 'quark'",
     "output_type": "error",
     "traceback": [
      "\u001b[0;31m---------------------------------------------------------------------------\u001b[0m",
      "\u001b[0;31mValueError\u001b[0m                                Traceback (most recent call last)",
      "Cell \u001b[0;32mIn [28], line 1\u001b[0m\n\u001b[0;32m----> 1\u001b[0m \u001b[38;5;28mint\u001b[39m(\u001b[38;5;124m\"\u001b[39m\u001b[38;5;124mquark\u001b[39m\u001b[38;5;124m\"\u001b[39m)\n",
      "\u001b[0;31mValueError\u001b[0m: invalid literal for int() with base 10: 'quark'"
     ]
    }
   ],
   "source": [
    "int(\"quark\")"
   ]
  },
  {
   "cell_type": "markdown",
   "metadata": {
    "slideshow": {
     "slide_type": "slide"
    }
   },
   "source": [
    "## Strings ##  \n",
    "Strings are one of the fundamental data types in Python. The simplest ways to define string literals are by using\n",
    "matching single quotes (') or matching double quotes (\"):"
   ]
  },
  {
   "cell_type": "code",
   "execution_count": 26,
   "metadata": {
    "slideshow": {
     "slide_type": "fragment"
    }
   },
   "outputs": [
    {
     "data": {
      "text/plain": [
       "str"
      ]
     },
     "execution_count": 26,
     "metadata": {},
     "output_type": "execute_result"
    }
   ],
   "source": [
    "x = \"I am a string\"\n",
    "type(x)"
   ]
  },
  {
   "cell_type": "markdown",
   "metadata": {
    "slideshow": {
     "slide_type": "slide"
    }
   },
   "source": [
    "#### String Indexing  \n",
    "Is the process of retrieving data from part or all\n",
    "of a string. Indexing actually applies to all sequences in Python and uses square\n",
    "brackets ([]) to operate on the variable."
   ]
  },
  {
   "cell_type": "code",
   "execution_count": 30,
   "metadata": {
    "slideshow": {
     "slide_type": "fragment"
    }
   },
   "outputs": [
    {
     "data": {
      "text/plain": [
       "'r'"
      ]
     },
     "execution_count": 30,
     "metadata": {},
     "output_type": "execute_result"
    }
   ],
   "source": [
    "p = 'proton'\n",
    "p[1]"
   ]
  },
  {
   "cell_type": "code",
   "execution_count": 28,
   "metadata": {
    "slideshow": {
     "slide_type": "fragment"
    }
   },
   "outputs": [
    {
     "data": {
      "text/plain": [
       "'n'"
      ]
     },
     "execution_count": 28,
     "metadata": {},
     "output_type": "execute_result"
    }
   ],
   "source": [
    "p[-1]\n",
    "# it is equivalent to write \n",
    "p[len(p)-1]"
   ]
  },
  {
   "cell_type": "markdown",
   "metadata": {
    "slideshow": {
     "slide_type": "slide"
    }
   },
   "source": [
    "Now suppose you want to pull out more than just a single element at a time.  \n",
    "To extract a substring, you index with a **slice**. A slice is a sequence-independent way of\n",
    "defining a range of indices.  \n",
    "**s[start:stop]**"
   ]
  },
  {
   "cell_type": "code",
   "execution_count": 31,
   "metadata": {
    "slideshow": {
     "slide_type": "fragment"
    }
   },
   "outputs": [
    {
     "data": {
      "text/plain": [
       "'ot'"
      ]
     },
     "execution_count": 31,
     "metadata": {},
     "output_type": "execute_result"
    }
   ],
   "source": [
    "p[2:4]"
   ]
  },
  {
   "cell_type": "code",
   "execution_count": 32,
   "metadata": {
    "slideshow": {
     "slide_type": "fragment"
    }
   },
   "outputs": [
    {
     "data": {
      "text/plain": [
       "'p'"
      ]
     },
     "execution_count": 32,
     "metadata": {},
     "output_type": "execute_result"
    }
   ],
   "source": [
    "p[0:1]"
   ]
  },
  {
   "cell_type": "markdown",
   "metadata": {
    "slideshow": {
     "slide_type": "fragment"
    }
   },
   "source": [
    "Is there anything strange you notice?"
   ]
  },
  {
   "cell_type": "markdown",
   "metadata": {
    "slideshow": {
     "slide_type": "slide"
    }
   },
   "source": [
    "Slices are defined to be inclusive on the lower end and exclusive on the upper end. The difference between the stop and start values will always be the length of the subsequence.  \n",
    "#### (stop-start) = len(s[start:stop])"
   ]
  },
  {
   "attachments": {
    "Screenshot_1.png": {
     "image/png": "[encoded data removed]"
    }
   },
   "cell_type": "markdown",
   "metadata": {
    "slideshow": {
     "slide_type": "fragment"
    }
   },
   "source": [
    "![Screenshot_1.png](attachment:Screenshot_1.png)"
   ]
  },
  {
   "cell_type": "code",
   "execution_count": 32,
   "metadata": {
    "slideshow": {
     "slide_type": "slide"
    }
   },
   "outputs": [
    {
     "data": {
      "text/plain": [
       "'roto'"
      ]
     },
     "execution_count": 32,
     "metadata": {},
     "output_type": "execute_result"
    }
   ],
   "source": [
    "# mix positive and negative indices \n",
    "p[1:-1]"
   ]
  },
  {
   "cell_type": "code",
   "execution_count": 5,
   "metadata": {
    "slideshow": {
     "slide_type": "fragment"
    }
   },
   "outputs": [
    {
     "name": "stdout",
     "output_type": "stream",
     "text": [
      "pr\n",
      "roton\n",
      "proton\n"
     ]
    }
   ],
   "source": [
    "print(p[:2]) # the first two elements\n",
    "print(p[-5:]) # the last five elements\n",
    "print(p[:]) # all "
   ]
  },
  {
   "cell_type": "markdown",
   "metadata": {
    "slideshow": {
     "slide_type": "slide"
    }
   },
   "source": [
    "Slicing has one last parameter: **the step**. The step represents how many elements to go\n",
    "in the sequence before picking up the next element for the slice. This is also sometimes\n",
    "known as a stride.\n",
    "#### s[start:stop:step]"
   ]
  },
  {
   "cell_type": "code",
   "execution_count": 34,
   "metadata": {
    "slideshow": {
     "slide_type": "fragment"
    }
   },
   "outputs": [
    {
     "data": {
      "text/plain": [
       "'abcdefghijklmnopqrstuvwxyz'"
      ]
     },
     "execution_count": 34,
     "metadata": {},
     "output_type": "execute_result"
    }
   ],
   "source": [
    "q = \"AaBbCcDdEeFfGgHhIiJjKkLlMmNnOoPpQqRrSsTtUuVvWwXxYyZz\"\n",
    "q[1::2]"
   ]
  },
  {
   "cell_type": "code",
   "execution_count": 36,
   "metadata": {},
   "outputs": [
    {
     "data": {
      "text/plain": [
       "'AaBbCcDdEeFfGgHhIiJjKkLlMmNnOoPpQqRrSsTtUuVvWwXxYyZz'"
      ]
     },
     "execution_count": 36,
     "metadata": {},
     "output_type": "execute_result"
    }
   ],
   "source": [
    "q[0::]"
   ]
  },
  {
   "cell_type": "markdown",
   "metadata": {
    "slideshow": {
     "slide_type": "fragment"
    }
   },
   "source": [
    "I want to make a slice that takes all the capital letters"
   ]
  },
  {
   "cell_type": "code",
   "execution_count": null,
   "metadata": {
    "slideshow": {
     "slide_type": "subslide"
    }
   },
   "outputs": [],
   "source": [
    "q[:-2:2]"
   ]
  },
  {
   "cell_type": "markdown",
   "metadata": {
    "slideshow": {
     "slide_type": "subslide"
    }
   },
   "source": [
    "I want to make a slice that takes all the lower case letters"
   ]
  },
  {
   "cell_type": "code",
   "execution_count": 34,
   "metadata": {
    "slideshow": {
     "slide_type": "fragment"
    }
   },
   "outputs": [
    {
     "data": {
      "text/plain": [
       "'abcdefghijklmnopqrstuvwxyz'"
      ]
     },
     "execution_count": 34,
     "metadata": {},
     "output_type": "execute_result"
    }
   ],
   "source": [
    "q[1::2]"
   ]
  },
  {
   "cell_type": "markdown",
   "metadata": {
    "slideshow": {
     "slide_type": "subslide"
    }
   },
   "source": [
    "Let's define another variable and now I want to reverse the sequence"
   ]
  },
  {
   "cell_type": "code",
   "execution_count": 42,
   "metadata": {
    "slideshow": {
     "slide_type": "fragment"
    }
   },
   "outputs": [
    {
     "data": {
      "text/plain": [
       "'97531'"
      ]
     },
     "execution_count": 42,
     "metadata": {},
     "output_type": "execute_result"
    }
   ],
   "source": [
    "s = '123456789'\n",
    "s[::-2]"
   ]
  },
  {
   "cell_type": "code",
   "execution_count": null,
   "metadata": {
    "slideshow": {
     "slide_type": "subslide"
    }
   },
   "outputs": [],
   "source": [
    "s[::-1] # reverse a sequence"
   ]
  },
  {
   "cell_type": "code",
   "execution_count": 7,
   "metadata": {},
   "outputs": [
    {
     "data": {
      "text/plain": [
       "384"
      ]
     },
     "execution_count": 7,
     "metadata": {},
     "output_type": "execute_result"
    }
   ],
   "source": [
    "a = int('192') \n",
    "a+a"
   ]
  },
  {
   "cell_type": "markdown",
   "metadata": {
    "slideshow": {
     "slide_type": "slide"
    }
   },
   "source": [
    "## Python is dynamically typed ##  \n",
    "1. Types are set on the variable values and not on the variable names.\n",
    "2. Variable types do not need to be known before the variables are used.\n",
    "3. Variable names can change types when their values are changed."
   ]
  },
  {
   "cell_type": "code",
   "execution_count": 8,
   "metadata": {
    "slideshow": {
     "slide_type": "fragment"
    }
   },
   "outputs": [
    {
     "name": "stdout",
     "output_type": "stream",
     "text": [
      "<class 'int'>\n",
      "<class 'float'>\n",
      "<class 'str'>\n"
     ]
    }
   ],
   "source": [
    "x = 3\n",
    "print (type(x))\n",
    "x = 1.05457e-34\n",
    "print(type(x))\n",
    "x = \"Energy (in MeV)\"\n",
    "print(type(x))"
   ]
  },
  {
   "cell_type": "markdown",
   "metadata": {
    "slideshow": {
     "slide_type": "fragment"
    }
   },
   "source": [
    "Here, the type of x changes every time it is assigned to a new value. The new value\n",
    "replaces the previous value, but the variable retains the same name."
   ]
  },
  {
   "cell_type": "markdown",
   "metadata": {
    "slideshow": {
     "slide_type": "slide"
    }
   },
   "source": [
    "## Special Variables  \n",
    "Python has a few special variables that are so important that their values are built into\n",
    "the language: namely, True, False, None, and NotImplemented."
   ]
  },
  {
   "cell_type": "markdown",
   "metadata": {
    "slideshow": {
     "slide_type": "fragment"
    }
   },
   "source": [
    "**Boolean variable: True and False**  \n",
    "Boolean\n",
    "variables are used to represent the truth value of other Python expressions and may\n",
    "be used directly by the programmer as flags for turning behavior on or off.  \n",
    "In general, if the value is zero or the container\n",
    "is empty, then it is converted to False. If the value is nonzero or nonempty in any\n",
    "way, then it is converted to True.\n"
   ]
  },
  {
   "cell_type": "code",
   "execution_count": 4,
   "metadata": {
    "slideshow": {
     "slide_type": "subslide"
    }
   },
   "outputs": [
    {
     "data": {
      "text/plain": [
       "False"
      ]
     },
     "execution_count": 4,
     "metadata": {},
     "output_type": "execute_result"
    }
   ],
   "source": [
    "bool(0)"
   ]
  },
  {
   "cell_type": "code",
   "execution_count": 5,
   "metadata": {
    "slideshow": {
     "slide_type": "fragment"
    }
   },
   "outputs": [
    {
     "data": {
      "text/plain": [
       "True"
      ]
     },
     "execution_count": 5,
     "metadata": {},
     "output_type": "execute_result"
    }
   ],
   "source": [
    "bool(\"Do we need Oxygen?\")"
   ]
  },
  {
   "cell_type": "code",
   "execution_count": 8,
   "metadata": {
    "slideshow": {
     "slide_type": "fragment"
    }
   },
   "outputs": [
    {
     "data": {
      "text/plain": [
       "True"
      ]
     },
     "execution_count": 8,
     "metadata": {},
     "output_type": "execute_result"
    }
   ],
   "source": [
    "3>2"
   ]
  },
  {
   "cell_type": "markdown",
   "metadata": {
    "slideshow": {
     "slide_type": "slide"
    }
   },
   "source": [
    "## Operators  \n",
    "Operators are the syntax that Python uses to express common ways to manipulate data and variables.  \n",
    "Keep in mind that not all the operators are valid for all types of variables.\n",
    "Most of the operators can be composed with one another.   \n",
    "This means that you can chain them together, nest them within one another, and set their\n",
    "order of operation by putting parentheses around them. This is exactly the same as\n",
    "the composition of mathematical operators."
   ]
  },
  {
   "cell_type": "markdown",
   "metadata": {
    "slideshow": {
     "slide_type": "fragment"
    }
   },
   "source": [
    "Let's look at this example:  \n",
    "- x= <code> represent an assignment statement  \n",
    "- (42*65)-1 represent the expression of the statement \n",
    "- This expression is further composed of two sub-expression"
   ]
  },
  {
   "cell_type": "code",
   "execution_count": 12,
   "metadata": {
    "slideshow": {
     "slide_type": "-"
    }
   },
   "outputs": [
    {
     "ename": "TypeError",
     "evalue": "unsupported operand type(s) for /: 'list' and 'int'",
     "output_type": "error",
     "traceback": [
      "\u001b[0;31m---------------------------------------------------------------------------\u001b[0m",
      "\u001b[0;31mTypeError\u001b[0m                                 Traceback (most recent call last)",
      "Cell \u001b[0;32mIn [12], line 1\u001b[0m\n\u001b[0;32m----> 1\u001b[0m x \u001b[38;5;241m=\u001b[39m [(\u001b[38;5;241m42\u001b[39m \u001b[38;5;241m*\u001b[39m \u001b[38;5;241m65\u001b[39m) \u001b[38;5;241m-\u001b[39m \u001b[38;5;241m1\u001b[39m]\u001b[38;5;241m/\u001b[39m\u001b[38;5;241m28\u001b[39m\n\u001b[1;32m      2\u001b[0m x\n",
      "\u001b[0;31mTypeError\u001b[0m: unsupported operand type(s) for /: 'list' and 'int'"
     ]
    }
   ],
   "source": [
    "x = ((42 * 65) - 1)/28\n",
    "x =  \n",
    "x"
   ]
  },
  {
   "cell_type": "code",
   "execution_count": 19,
   "metadata": {
    "slideshow": {
     "slide_type": "fragment"
    },
    "tags": []
   },
   "outputs": [
    {
     "data": {
      "text/plain": [
       "107"
      ]
     },
     "execution_count": 19,
     "metadata": {},
     "output_type": "execute_result"
    }
   ],
   "source": []
  },
  {
   "cell_type": "markdown",
   "metadata": {
    "slideshow": {
     "slide_type": "slide"
    }
   },
   "source": [
    "# Modules  \n",
    "They represent a container of tools (functions) that you can use in your code.  \n",
    "More Pythonically, every file that is named with the extension **.py** when it is brought in a python interpreter is called **module**. A collection of modules in a directory is called **package**.  \n",
    "## The python standard library ##  \n",
    "Represents a collection of modules for a huge variety of common and not-so-common tasks. The batteries-included standard library is one of the things that makes Python\n",
    "so versatile.  \n",
    "## Importing modules ##  \n",
    "There are four ways to import a module in your code and be able to use the functions that it contains."
   ]
  },
  {
   "cell_type": "code",
   "execution_count": 13,
   "metadata": {
    "jupyter": {
     "outputs_hidden": true
    },
    "slideshow": {
     "slide_type": "subslide"
    }
   },
   "outputs": [
    {
     "name": "stdout",
     "output_type": "stream",
     "text": [
      "3.141592653589793\n"
     ]
    }
   ],
   "source": [
    "import numpy\n",
    "\n",
    "radius = 2 \n",
    "circle_area = numpy.pi * radius**2\n",
    "circle_area\n",
    "\n",
    "print(numpy.pi)"
   ]
  },
  {
   "cell_type": "markdown",
   "metadata": {
    "slideshow": {
     "slide_type": "subslide"
    }
   },
   "source": [
    "Once a module has been imported, you can obtain variables in that module using the\n",
    "attribute access operator (.).  \n",
    "To know what are the variables and function in a module package there is an extensive documentation.\n",
    "https://numpy.org/\n"
   ]
  },
  {
   "cell_type": "markdown",
   "metadata": {
    "slideshow": {
     "slide_type": "slide"
    }
   },
   "source": [
    "## Aliasing import  \n",
    "The next form of importing changes the name of the module on import. This is helpful\n",
    "if there is a local variable whose name would otherwise clash with the name of the\n",
    "module"
   ]
  },
  {
   "cell_type": "code",
   "execution_count": 6,
   "metadata": {
    "collapsed": true,
    "jupyter": {
     "outputs_hidden": true
    },
    "slideshow": {
     "slide_type": "fragment"
    }
   },
   "outputs": [
    {
     "data": {
      "text/plain": [
       "12.566370614359172"
      ]
     },
     "execution_count": 6,
     "metadata": {},
     "output_type": "execute_result"
    }
   ],
   "source": [
    "import numpy as np\n",
    "circle_area = np.pi * radius**2\n",
    "circle_area"
   ]
  },
  {
   "cell_type": "markdown",
   "metadata": {
    "slideshow": {
     "slide_type": "slide"
    }
   },
   "source": [
    "## Wrap-up  \n",
    "At this point you should be familiar with conceopts like:  \n",
    "- How to navigate the python IDE\n",
    "- Variables and dynamic typing\n",
    "- Basic data types such as str, int, float\n",
    "- Manipulate variables with built-in operators\n",
    "- How to import and use modules"
   ]
  },
  {
   "cell_type": "markdown",
   "metadata": {
    "slideshow": {
     "slide_type": "slide"
    }
   },
   "source": [
    "### Hands on with some real things  \n",
    "Let's represent the brittle behavior (i.e. linear pressure dependence) of a typical rock like granit that has a coefficient of friction   $\\mu$=0.8.  \n",
    "We can follow the Coulomb criterion that states:  \n",
    "$\\tau$ = $\\mu * \\sigma_n$ + C"
   ]
  },
  {
   "cell_type": "code",
   "execution_count": 1,
   "metadata": {
    "slideshow": {
     "slide_type": "subslide"
    }
   },
   "outputs": [],
   "source": [
    "import numpy as np\n",
    "import matplotlib.pyplot as plt"
   ]
  },
  {
   "cell_type": "code",
   "execution_count": 2,
   "metadata": {
    "slideshow": {
     "slide_type": "fragment"
    }
   },
   "outputs": [],
   "source": [
    "mu = 0.8 # define coefficient of friction \n",
    "cohesion = 10 # define cohesion\n",
    "sigma_n = np.arange(1,100,1)\n",
    "tau = mu*sigma_n + cohesion\n",
    "sigma_n_2 = 10 "
   ]
  },
  {
   "cell_type": "code",
   "execution_count": 3,
   "metadata": {
    "slideshow": {
     "slide_type": "fragment"
    }
   },
   "outputs": [
    {
     "data": {
      "text/plain": [
       "<matplotlib.legend.Legend at 0x7f06c1a6d0d0>"
      ]
     },
     "execution_count": 3,
     "metadata": {},
     "output_type": "execute_result"
    },
    {
     "data": {
      "application/vnd.jupyter.widget-view+json": {
       "model_id": "f8a3bd2de4b44fbbbf4b4cf404e1c006",
       "version_major": 2,
       "version_minor": 0
      },
      "image/png": "[encoded data removed]",
      "text/html": [
       "\n",
       "            <div style=\"display: inline-block;\">\n",
       "                <div class=\"jupyter-widgets widget-label\" style=\"text-align: center;\">\n",
       "                    Figure\n",
       "                </div>\n",
       "                <img src='data:image/png;base64,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' width=640.0/>\n",
       "            </div>\n",
       "        "
      ],
      "text/plain": [
       "Canvas(toolbar=Toolbar(toolitems=[('Home', 'Reset original view', 'home', 'home'), ('Back', 'Back to previous …"
      ]
     },
     "metadata": {},
     "output_type": "display_data"
    }
   ],
   "source": [
    "%matplotlib widget\n",
    "\n",
    "fig = plt.figure()\n",
    "plt.plot(sigma_n,tau,'k',linestyle='-',linewidth=3,label='Failure envelope')\n",
    "plt.ylabel(r'Shear stress ($\\tau$) [MPa]')\n",
    "plt.xlabel(r'Normal stress ($\\sigma_n$) [MPa]')\n",
    "plt.legend(loc='best')"
   ]
  },
  {
   "cell_type": "code",
   "execution_count": null,
   "metadata": {},
   "outputs": [],
   "source": []
  }
 ],
 "metadata": {
  "celltoolbar": "Slideshow",
  "kernelspec": {
   "display_name": "Python 3 (ipykernel)",
   "language": "python",
   "name": "python3"
  },
  "language_info": {
   "codemirror_mode": {
    "name": "ipython",
    "version": 3
   },
   "file_extension": ".py",
   "mimetype": "text/x-python",
   "name": "python",
   "nbconvert_exporter": "python",
   "pygments_lexer": "ipython3",
   "version": "3.9.13"
  }
 },
 "nbformat": 4,
 "nbformat_minor": 4
}
